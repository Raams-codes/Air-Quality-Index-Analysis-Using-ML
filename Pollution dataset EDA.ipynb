{
 "cells": [
  {
   "cell_type": "markdown",
   "id": "c778908d",
   "metadata": {},
   "source": [
    "## Importing Libraries"
   ]
  },
  {
   "cell_type": "code",
   "execution_count": 1,
   "id": "aecf8b98",
   "metadata": {},
   "outputs": [],
   "source": [
    "import pandas as pd\n",
    "import numpy as np\n",
    "import matplotlib.pyplot as plt\n",
    "import seaborn as sns\n",
    "import warnings\n",
    "warnings.filterwarnings(\"ignore\")"
   ]
  },
  {
   "cell_type": "markdown",
   "id": "7ce1c98d",
   "metadata": {},
   "source": [
    "## Importing Data's"
   ]
  },
  {
   "cell_type": "code",
   "execution_count": 2,
   "id": "570afb16",
   "metadata": {},
   "outputs": [],
   "source": [
    "df1=pd.read_csv(\"C:\\\\Users\\\\DELL\\\\Desktop\\\\POLLUTION Dataset\\\\pollution Dataset\\\\station_hour.csv\")\n",
    "df2=pd.read_csv(\"C:\\\\Users\\\\DELL\\\\Desktop\\\\POLLUTION Dataset\\\\pollution Dataset\\\\station_day.csv\")"
   ]
  },
  {
   "cell_type": "code",
   "execution_count": 3,
   "id": "5e1658fa",
   "metadata": {},
   "outputs": [],
   "source": [
    "station=pd.read_csv(\"C:\\\\Users\\\\DELL\\\\Desktop\\\\POLLUTION Dataset\\\\pollution Dataset\\\\stations.csv\")"
   ]
  },
  {
   "cell_type": "code",
   "execution_count": 4,
   "id": "15c18f29",
   "metadata": {},
   "outputs": [],
   "source": [
    "df1=pd.merge(df1,station,on=\"StationId\")\n",
    "df2=pd.merge(df2,station,on=\"StationId\")"
   ]
  },
  {
   "cell_type": "markdown",
   "id": "3ce14f54",
   "metadata": {},
   "source": [
    "## Understanding Data"
   ]
  },
  {
   "cell_type": "code",
   "execution_count": 5,
   "id": "d76b6cb7",
   "metadata": {},
   "outputs": [
    {
     "data": {
      "text/plain": [
       "(1048488, 20)"
      ]
     },
     "execution_count": 5,
     "metadata": {},
     "output_type": "execute_result"
    }
   ],
   "source": [
    "df1.shape"
   ]
  },
  {
   "cell_type": "code",
   "execution_count": 6,
   "id": "1ea8a089",
   "metadata": {},
   "outputs": [
    {
     "data": {
      "text/html": [
       "<div>\n",
       "<style scoped>\n",
       "    .dataframe tbody tr th:only-of-type {\n",
       "        vertical-align: middle;\n",
       "    }\n",
       "\n",
       "    .dataframe tbody tr th {\n",
       "        vertical-align: top;\n",
       "    }\n",
       "\n",
       "    .dataframe thead th {\n",
       "        text-align: right;\n",
       "    }\n",
       "</style>\n",
       "<table border=\"1\" class=\"dataframe\">\n",
       "  <thead>\n",
       "    <tr style=\"text-align: right;\">\n",
       "      <th></th>\n",
       "      <th>StationId</th>\n",
       "      <th>Datetime</th>\n",
       "      <th>PM2.5</th>\n",
       "      <th>PM10</th>\n",
       "      <th>NO</th>\n",
       "      <th>NO2</th>\n",
       "      <th>NOx</th>\n",
       "      <th>NH3</th>\n",
       "      <th>CO</th>\n",
       "      <th>SO2</th>\n",
       "      <th>O3</th>\n",
       "      <th>Benzene</th>\n",
       "      <th>Toluene</th>\n",
       "      <th>Xylene</th>\n",
       "      <th>AQI</th>\n",
       "      <th>AQI_Bucket</th>\n",
       "      <th>StationName</th>\n",
       "      <th>City</th>\n",
       "      <th>State</th>\n",
       "      <th>Status</th>\n",
       "    </tr>\n",
       "  </thead>\n",
       "  <tbody>\n",
       "    <tr>\n",
       "      <th>0</th>\n",
       "      <td>AP001</td>\n",
       "      <td>25-11-2017 00:00</td>\n",
       "      <td>68.0</td>\n",
       "      <td>111.00</td>\n",
       "      <td>1.25</td>\n",
       "      <td>14.12</td>\n",
       "      <td>8.50</td>\n",
       "      <td>20.28</td>\n",
       "      <td>0.1</td>\n",
       "      <td>8.90</td>\n",
       "      <td>116.12</td>\n",
       "      <td>0.20</td>\n",
       "      <td>5.55</td>\n",
       "      <td>0.05</td>\n",
       "      <td>NaN</td>\n",
       "      <td>NaN</td>\n",
       "      <td>Secretariat, Amaravati - APPCB</td>\n",
       "      <td>Amaravati</td>\n",
       "      <td>Andhra Pradesh</td>\n",
       "      <td>Active</td>\n",
       "    </tr>\n",
       "    <tr>\n",
       "      <th>1</th>\n",
       "      <td>AP001</td>\n",
       "      <td>25-11-2017 01:00</td>\n",
       "      <td>73.0</td>\n",
       "      <td>102.00</td>\n",
       "      <td>0.30</td>\n",
       "      <td>14.30</td>\n",
       "      <td>7.90</td>\n",
       "      <td>11.50</td>\n",
       "      <td>0.3</td>\n",
       "      <td>11.80</td>\n",
       "      <td>121.50</td>\n",
       "      <td>0.20</td>\n",
       "      <td>6.60</td>\n",
       "      <td>0.00</td>\n",
       "      <td>NaN</td>\n",
       "      <td>NaN</td>\n",
       "      <td>Secretariat, Amaravati - APPCB</td>\n",
       "      <td>Amaravati</td>\n",
       "      <td>Andhra Pradesh</td>\n",
       "      <td>Active</td>\n",
       "    </tr>\n",
       "    <tr>\n",
       "      <th>2</th>\n",
       "      <td>AP001</td>\n",
       "      <td>25-11-2017 02:00</td>\n",
       "      <td>81.0</td>\n",
       "      <td>123.00</td>\n",
       "      <td>0.80</td>\n",
       "      <td>24.85</td>\n",
       "      <td>13.88</td>\n",
       "      <td>10.28</td>\n",
       "      <td>0.1</td>\n",
       "      <td>11.62</td>\n",
       "      <td>83.80</td>\n",
       "      <td>0.23</td>\n",
       "      <td>6.77</td>\n",
       "      <td>0.10</td>\n",
       "      <td>NaN</td>\n",
       "      <td>NaN</td>\n",
       "      <td>Secretariat, Amaravati - APPCB</td>\n",
       "      <td>Amaravati</td>\n",
       "      <td>Andhra Pradesh</td>\n",
       "      <td>Active</td>\n",
       "    </tr>\n",
       "    <tr>\n",
       "      <th>3</th>\n",
       "      <td>AP001</td>\n",
       "      <td>25-11-2017 03:00</td>\n",
       "      <td>82.5</td>\n",
       "      <td>122.75</td>\n",
       "      <td>1.25</td>\n",
       "      <td>21.82</td>\n",
       "      <td>12.65</td>\n",
       "      <td>10.18</td>\n",
       "      <td>0.1</td>\n",
       "      <td>12.70</td>\n",
       "      <td>87.25</td>\n",
       "      <td>0.20</td>\n",
       "      <td>5.98</td>\n",
       "      <td>0.08</td>\n",
       "      <td>NaN</td>\n",
       "      <td>NaN</td>\n",
       "      <td>Secretariat, Amaravati - APPCB</td>\n",
       "      <td>Amaravati</td>\n",
       "      <td>Andhra Pradesh</td>\n",
       "      <td>Active</td>\n",
       "    </tr>\n",
       "    <tr>\n",
       "      <th>4</th>\n",
       "      <td>AP001</td>\n",
       "      <td>25-11-2017 04:00</td>\n",
       "      <td>77.5</td>\n",
       "      <td>112.50</td>\n",
       "      <td>0.50</td>\n",
       "      <td>23.50</td>\n",
       "      <td>12.90</td>\n",
       "      <td>8.90</td>\n",
       "      <td>0.1</td>\n",
       "      <td>11.58</td>\n",
       "      <td>76.45</td>\n",
       "      <td>0.20</td>\n",
       "      <td>6.02</td>\n",
       "      <td>0.00</td>\n",
       "      <td>NaN</td>\n",
       "      <td>NaN</td>\n",
       "      <td>Secretariat, Amaravati - APPCB</td>\n",
       "      <td>Amaravati</td>\n",
       "      <td>Andhra Pradesh</td>\n",
       "      <td>Active</td>\n",
       "    </tr>\n",
       "  </tbody>\n",
       "</table>\n",
       "</div>"
      ],
      "text/plain": [
       "  StationId          Datetime  PM2.5    PM10    NO    NO2    NOx    NH3   CO  \\\n",
       "0     AP001  25-11-2017 00:00   68.0  111.00  1.25  14.12   8.50  20.28  0.1   \n",
       "1     AP001  25-11-2017 01:00   73.0  102.00  0.30  14.30   7.90  11.50  0.3   \n",
       "2     AP001  25-11-2017 02:00   81.0  123.00  0.80  24.85  13.88  10.28  0.1   \n",
       "3     AP001  25-11-2017 03:00   82.5  122.75  1.25  21.82  12.65  10.18  0.1   \n",
       "4     AP001  25-11-2017 04:00   77.5  112.50  0.50  23.50  12.90   8.90  0.1   \n",
       "\n",
       "     SO2      O3  Benzene  Toluene  Xylene  AQI AQI_Bucket  \\\n",
       "0   8.90  116.12     0.20     5.55    0.05  NaN        NaN   \n",
       "1  11.80  121.50     0.20     6.60    0.00  NaN        NaN   \n",
       "2  11.62   83.80     0.23     6.77    0.10  NaN        NaN   \n",
       "3  12.70   87.25     0.20     5.98    0.08  NaN        NaN   \n",
       "4  11.58   76.45     0.20     6.02    0.00  NaN        NaN   \n",
       "\n",
       "                      StationName       City           State  Status  \n",
       "0  Secretariat, Amaravati - APPCB  Amaravati  Andhra Pradesh  Active  \n",
       "1  Secretariat, Amaravati - APPCB  Amaravati  Andhra Pradesh  Active  \n",
       "2  Secretariat, Amaravati - APPCB  Amaravati  Andhra Pradesh  Active  \n",
       "3  Secretariat, Amaravati - APPCB  Amaravati  Andhra Pradesh  Active  \n",
       "4  Secretariat, Amaravati - APPCB  Amaravati  Andhra Pradesh  Active  "
      ]
     },
     "execution_count": 6,
     "metadata": {},
     "output_type": "execute_result"
    }
   ],
   "source": [
    "df1.head()"
   ]
  },
  {
   "cell_type": "code",
   "execution_count": 7,
   "id": "ab3c6819",
   "metadata": {},
   "outputs": [
    {
     "name": "stdout",
     "output_type": "stream",
     "text": [
      "<class 'pandas.core.frame.DataFrame'>\n",
      "Int64Index: 1048488 entries, 0 to 1048487\n",
      "Data columns (total 20 columns):\n",
      " #   Column       Non-Null Count    Dtype  \n",
      "---  ------       --------------    -----  \n",
      " 0   StationId    1048488 non-null  object \n",
      " 1   Datetime     1048488 non-null  object \n",
      " 2   PM2.5        800121 non-null   float64\n",
      " 3   PM10         705781 non-null   float64\n",
      " 4   NO           817860 non-null   float64\n",
      " 5   NO2          831375 non-null   float64\n",
      " 6   NOx          855833 non-null   float64\n",
      " 7   NH3          581748 non-null   float64\n",
      " 8   CO           827450 non-null   float64\n",
      " 9   SO2          664292 non-null   float64\n",
      " 10  O3           798012 non-null   float64\n",
      " 11  Benzene      701794 non-null   float64\n",
      " 12  Toluene      672121 non-null   float64\n",
      " 13  Xylene       213410 non-null   float64\n",
      " 14  AQI          808992 non-null   float64\n",
      " 15  AQI_Bucket   808992 non-null   object \n",
      " 16  StationName  1048488 non-null  object \n",
      " 17  City         1048488 non-null  object \n",
      " 18  State        1048488 non-null  object \n",
      " 19  Status       1048488 non-null  object \n",
      "dtypes: float64(13), object(7)\n",
      "memory usage: 168.0+ MB\n"
     ]
    }
   ],
   "source": [
    "df1.info()"
   ]
  },
  {
   "cell_type": "code",
   "execution_count": 8,
   "id": "e647ba47",
   "metadata": {},
   "outputs": [
    {
     "data": {
      "text/plain": [
       "42"
      ]
     },
     "execution_count": 8,
     "metadata": {},
     "output_type": "execute_result"
    }
   ],
   "source": [
    "df1[\"StationId\"].nunique()"
   ]
  },
  {
   "cell_type": "code",
   "execution_count": 9,
   "id": "4f30989d",
   "metadata": {},
   "outputs": [
    {
     "data": {
      "text/plain": [
       "6"
      ]
     },
     "execution_count": 9,
     "metadata": {},
     "output_type": "execute_result"
    }
   ],
   "source": [
    "df1[\"City\"].nunique()"
   ]
  },
  {
   "cell_type": "code",
   "execution_count": 10,
   "id": "5339e390",
   "metadata": {},
   "outputs": [
    {
     "data": {
      "text/plain": [
       "(107927, 20)"
      ]
     },
     "execution_count": 10,
     "metadata": {},
     "output_type": "execute_result"
    }
   ],
   "source": [
    "df2.shape"
   ]
  },
  {
   "cell_type": "code",
   "execution_count": 11,
   "id": "415a6613",
   "metadata": {},
   "outputs": [
    {
     "data": {
      "text/html": [
       "<div>\n",
       "<style scoped>\n",
       "    .dataframe tbody tr th:only-of-type {\n",
       "        vertical-align: middle;\n",
       "    }\n",
       "\n",
       "    .dataframe tbody tr th {\n",
       "        vertical-align: top;\n",
       "    }\n",
       "\n",
       "    .dataframe thead th {\n",
       "        text-align: right;\n",
       "    }\n",
       "</style>\n",
       "<table border=\"1\" class=\"dataframe\">\n",
       "  <thead>\n",
       "    <tr style=\"text-align: right;\">\n",
       "      <th></th>\n",
       "      <th>StationId</th>\n",
       "      <th>Date</th>\n",
       "      <th>PM2.5</th>\n",
       "      <th>PM10</th>\n",
       "      <th>NO</th>\n",
       "      <th>NO2</th>\n",
       "      <th>NOx</th>\n",
       "      <th>NH3</th>\n",
       "      <th>CO</th>\n",
       "      <th>SO2</th>\n",
       "      <th>O3</th>\n",
       "      <th>Benzene</th>\n",
       "      <th>Toluene</th>\n",
       "      <th>Xylene</th>\n",
       "      <th>AQI</th>\n",
       "      <th>AQI_Bucket</th>\n",
       "      <th>StationName</th>\n",
       "      <th>City</th>\n",
       "      <th>State</th>\n",
       "      <th>Status</th>\n",
       "    </tr>\n",
       "  </thead>\n",
       "  <tbody>\n",
       "    <tr>\n",
       "      <th>0</th>\n",
       "      <td>AP001</td>\n",
       "      <td>24-11-2017</td>\n",
       "      <td>71.36</td>\n",
       "      <td>115.75</td>\n",
       "      <td>1.75</td>\n",
       "      <td>20.65</td>\n",
       "      <td>12.40</td>\n",
       "      <td>12.19</td>\n",
       "      <td>0.10</td>\n",
       "      <td>10.76</td>\n",
       "      <td>109.26</td>\n",
       "      <td>0.17</td>\n",
       "      <td>5.92</td>\n",
       "      <td>0.10</td>\n",
       "      <td>NaN</td>\n",
       "      <td>NaN</td>\n",
       "      <td>Secretariat, Amaravati - APPCB</td>\n",
       "      <td>Amaravati</td>\n",
       "      <td>Andhra Pradesh</td>\n",
       "      <td>Active</td>\n",
       "    </tr>\n",
       "    <tr>\n",
       "      <th>1</th>\n",
       "      <td>AP001</td>\n",
       "      <td>25-11-2017</td>\n",
       "      <td>81.40</td>\n",
       "      <td>124.50</td>\n",
       "      <td>1.44</td>\n",
       "      <td>20.50</td>\n",
       "      <td>12.08</td>\n",
       "      <td>10.72</td>\n",
       "      <td>0.12</td>\n",
       "      <td>15.24</td>\n",
       "      <td>127.09</td>\n",
       "      <td>0.20</td>\n",
       "      <td>6.50</td>\n",
       "      <td>0.06</td>\n",
       "      <td>184.0</td>\n",
       "      <td>Moderate</td>\n",
       "      <td>Secretariat, Amaravati - APPCB</td>\n",
       "      <td>Amaravati</td>\n",
       "      <td>Andhra Pradesh</td>\n",
       "      <td>Active</td>\n",
       "    </tr>\n",
       "    <tr>\n",
       "      <th>2</th>\n",
       "      <td>AP001</td>\n",
       "      <td>26-11-2017</td>\n",
       "      <td>78.32</td>\n",
       "      <td>129.06</td>\n",
       "      <td>1.26</td>\n",
       "      <td>26.00</td>\n",
       "      <td>14.85</td>\n",
       "      <td>10.28</td>\n",
       "      <td>0.14</td>\n",
       "      <td>26.96</td>\n",
       "      <td>117.44</td>\n",
       "      <td>0.22</td>\n",
       "      <td>7.95</td>\n",
       "      <td>0.08</td>\n",
       "      <td>197.0</td>\n",
       "      <td>Moderate</td>\n",
       "      <td>Secretariat, Amaravati - APPCB</td>\n",
       "      <td>Amaravati</td>\n",
       "      <td>Andhra Pradesh</td>\n",
       "      <td>Active</td>\n",
       "    </tr>\n",
       "    <tr>\n",
       "      <th>3</th>\n",
       "      <td>AP001</td>\n",
       "      <td>27-11-2017</td>\n",
       "      <td>88.76</td>\n",
       "      <td>135.32</td>\n",
       "      <td>6.60</td>\n",
       "      <td>30.85</td>\n",
       "      <td>21.77</td>\n",
       "      <td>12.91</td>\n",
       "      <td>0.11</td>\n",
       "      <td>33.59</td>\n",
       "      <td>111.81</td>\n",
       "      <td>0.29</td>\n",
       "      <td>7.63</td>\n",
       "      <td>0.12</td>\n",
       "      <td>198.0</td>\n",
       "      <td>Moderate</td>\n",
       "      <td>Secretariat, Amaravati - APPCB</td>\n",
       "      <td>Amaravati</td>\n",
       "      <td>Andhra Pradesh</td>\n",
       "      <td>Active</td>\n",
       "    </tr>\n",
       "    <tr>\n",
       "      <th>4</th>\n",
       "      <td>AP001</td>\n",
       "      <td>28-11-2017</td>\n",
       "      <td>64.18</td>\n",
       "      <td>104.09</td>\n",
       "      <td>2.56</td>\n",
       "      <td>28.07</td>\n",
       "      <td>17.01</td>\n",
       "      <td>11.42</td>\n",
       "      <td>0.09</td>\n",
       "      <td>19.00</td>\n",
       "      <td>138.18</td>\n",
       "      <td>0.17</td>\n",
       "      <td>5.02</td>\n",
       "      <td>0.07</td>\n",
       "      <td>188.0</td>\n",
       "      <td>Moderate</td>\n",
       "      <td>Secretariat, Amaravati - APPCB</td>\n",
       "      <td>Amaravati</td>\n",
       "      <td>Andhra Pradesh</td>\n",
       "      <td>Active</td>\n",
       "    </tr>\n",
       "  </tbody>\n",
       "</table>\n",
       "</div>"
      ],
      "text/plain": [
       "  StationId        Date  PM2.5    PM10    NO    NO2    NOx    NH3    CO  \\\n",
       "0     AP001  24-11-2017  71.36  115.75  1.75  20.65  12.40  12.19  0.10   \n",
       "1     AP001  25-11-2017  81.40  124.50  1.44  20.50  12.08  10.72  0.12   \n",
       "2     AP001  26-11-2017  78.32  129.06  1.26  26.00  14.85  10.28  0.14   \n",
       "3     AP001  27-11-2017  88.76  135.32  6.60  30.85  21.77  12.91  0.11   \n",
       "4     AP001  28-11-2017  64.18  104.09  2.56  28.07  17.01  11.42  0.09   \n",
       "\n",
       "     SO2      O3  Benzene  Toluene  Xylene    AQI AQI_Bucket  \\\n",
       "0  10.76  109.26     0.17     5.92    0.10    NaN        NaN   \n",
       "1  15.24  127.09     0.20     6.50    0.06  184.0   Moderate   \n",
       "2  26.96  117.44     0.22     7.95    0.08  197.0   Moderate   \n",
       "3  33.59  111.81     0.29     7.63    0.12  198.0   Moderate   \n",
       "4  19.00  138.18     0.17     5.02    0.07  188.0   Moderate   \n",
       "\n",
       "                      StationName       City           State  Status  \n",
       "0  Secretariat, Amaravati - APPCB  Amaravati  Andhra Pradesh  Active  \n",
       "1  Secretariat, Amaravati - APPCB  Amaravati  Andhra Pradesh  Active  \n",
       "2  Secretariat, Amaravati - APPCB  Amaravati  Andhra Pradesh  Active  \n",
       "3  Secretariat, Amaravati - APPCB  Amaravati  Andhra Pradesh  Active  \n",
       "4  Secretariat, Amaravati - APPCB  Amaravati  Andhra Pradesh  Active  "
      ]
     },
     "execution_count": 11,
     "metadata": {},
     "output_type": "execute_result"
    }
   ],
   "source": [
    "df2.head()"
   ]
  },
  {
   "cell_type": "code",
   "execution_count": 12,
   "id": "a2c0fbde",
   "metadata": {},
   "outputs": [
    {
     "data": {
      "text/plain": [
       "110"
      ]
     },
     "execution_count": 12,
     "metadata": {},
     "output_type": "execute_result"
    }
   ],
   "source": [
    "df2[\"StationId\"].nunique()"
   ]
  },
  {
   "cell_type": "code",
   "execution_count": 13,
   "id": "a41ae6a8",
   "metadata": {},
   "outputs": [
    {
     "data": {
      "text/plain": [
       "26"
      ]
     },
     "execution_count": 13,
     "metadata": {},
     "output_type": "execute_result"
    }
   ],
   "source": [
    "df2[\"City\"].nunique()"
   ]
  },
  {
   "cell_type": "code",
   "execution_count": 14,
   "id": "c1252600",
   "metadata": {},
   "outputs": [
    {
     "data": {
      "text/plain": [
       "Index(['StationId', 'Date', 'PM2.5', 'PM10', 'NO', 'NO2', 'NOx', 'NH3', 'CO',\n",
       "       'SO2', 'O3', 'Benzene', 'Toluene', 'Xylene', 'AQI', 'AQI_Bucket',\n",
       "       'StationName', 'City', 'State', 'Status'],\n",
       "      dtype='object')"
      ]
     },
     "execution_count": 14,
     "metadata": {},
     "output_type": "execute_result"
    }
   ],
   "source": [
    "df2.columns"
   ]
  },
  {
   "cell_type": "markdown",
   "id": "c580a8a3",
   "metadata": {},
   "source": [
    "####  OBSERVSTIONS\n",
    "    We have three datasets having hourly and daily basis.\n",
    "    Total datas are of 26 Indian Districts observed from 110 stations\n",
    "    Values of PM 10, PM 2.5, NO, NO2, NOx, NH3, CO, SO2, O3, Benzene, Toluene, Xylene, AQI Are observed\n",
    "    Values Toluene, Benzene and Xylene are dropped because of null values are high and having comparitively less impact variables on AQI."
   ]
  },
  {
   "cell_type": "markdown",
   "id": "8c3652f9",
   "metadata": {},
   "source": [
    "### Data Cleaning"
   ]
  },
  {
   "cell_type": "code",
   "execution_count": 15,
   "id": "af5df648",
   "metadata": {},
   "outputs": [],
   "source": [
    "null=pd.DataFrame(df2.isnull().sum())"
   ]
  },
  {
   "cell_type": "code",
   "execution_count": 16,
   "id": "c29b22bf",
   "metadata": {},
   "outputs": [
    {
     "data": {
      "text/plain": [
       "Text(0.5, 1.0, 'Percentage of null values')"
      ]
     },
     "execution_count": 16,
     "metadata": {},
     "output_type": "execute_result"
    },
    {
     "data": {
      "image/png": "[encoded data removed]",
      "text/plain": [
       "<Figure size 1800x600 with 1 Axes>"
      ]
     },
     "metadata": {},
     "output_type": "display_data"
    }
   ],
   "source": [
    "plt.figure(figsize=(18,6))\n",
    "sns.pointplot(x=null.index,y=(null[0]/(df2.shape[0]))*100)\n",
    "plt.tick_params(axis='both', which='major', labelsize=14)\n",
    "plt.title(label=\"Percentage of null values\",fontsize=25)"
   ]
  },
  {
   "cell_type": "code",
   "execution_count": 17,
   "id": "8b02c252",
   "metadata": {},
   "outputs": [],
   "source": [
    "df2=df2.drop([\"Toluene\", \"Benzene\", \"Xylene\"],axis=1)"
   ]
  },
  {
   "cell_type": "code",
   "execution_count": 18,
   "id": "3cac1057",
   "metadata": {
    "scrolled": false
   },
   "outputs": [
    {
     "data": {
      "text/plain": [
       "StationId          0\n",
       "Date               0\n",
       "PM2.5          21611\n",
       "PM10           42680\n",
       "NO             17094\n",
       "NO2            16539\n",
       "NOx            15492\n",
       "NH3            48070\n",
       "CO             12990\n",
       "SO2            25183\n",
       "O3             25556\n",
       "AQI            21001\n",
       "AQI_Bucket     21001\n",
       "StationName        0\n",
       "City               0\n",
       "State              0\n",
       "Status           322\n",
       "dtype: int64"
      ]
     },
     "execution_count": 18,
     "metadata": {},
     "output_type": "execute_result"
    }
   ],
   "source": [
    "df2.isnull().sum()"
   ]
  },
  {
   "cell_type": "code",
   "execution_count": 19,
   "id": "8bbc2aaf",
   "metadata": {},
   "outputs": [
    {
     "name": "stdout",
     "output_type": "stream",
     "text": [
      "        0\n",
      "PM2.5   3\n",
      "PM10   18\n",
      "NO      1\n",
      "NO2     0\n",
      "NOx     3\n",
      "NH3    27\n",
      "CO      1\n",
      "SO2     9\n",
      "O3      7\n",
      "AQI     1\n"
     ]
    }
   ],
   "source": [
    "#Station Defects\n",
    "df_n=df2.select_dtypes(exclude=\"object\")\n",
    "df_n[\"StationId\"]=df2[\"StationId\"]\n",
    "col=list(df_n.columns)\n",
    "col.pop()\n",
    "station_defect=[]\n",
    "for i in col:\n",
    "    station_defect.append(df2.groupby([\"StationId\"])[i].mean().isnull().sum())\n",
    "print(pd.DataFrame(station_defect,index=col))"
   ]
  },
  {
   "cell_type": "code",
   "execution_count": 20,
   "id": "eb911a30",
   "metadata": {},
   "outputs": [
    {
     "name": "stdout",
     "output_type": "stream",
     "text": [
      "       0\n",
      "PM2.5  0\n",
      "PM10   1\n",
      "NO     0\n",
      "NO2    0\n",
      "NOx    1\n",
      "NH3    1\n",
      "CO     0\n",
      "SO2    0\n",
      "O3     1\n",
      "AQI    0\n"
     ]
    }
   ],
   "source": [
    "#City Defects\n",
    "df_n=df2.select_dtypes(exclude=\"object\")\n",
    "df_n[\"City\"]=df2[\"City\"]\n",
    "col=list(df_n.columns)\n",
    "col.pop()\n",
    "station_defect=[]\n",
    "for i in col:\n",
    "    station_defect.append(df2.groupby([\"City\"])[i].mean().isnull().sum())\n",
    "print(pd.DataFrame(station_defect,index=col))"
   ]
  },
  {
   "cell_type": "code",
   "execution_count": 21,
   "id": "2be60ac5",
   "metadata": {},
   "outputs": [],
   "source": [
    "station_wise_grouped=df2.groupby(\"StationId\")\n",
    "df_filled1=station_wise_grouped.transform(lambda x :x.fillna(x.mean()))"
   ]
  },
  {
   "cell_type": "code",
   "execution_count": 22,
   "id": "273a66b0",
   "metadata": {},
   "outputs": [
    {
     "data": {
      "text/plain": [
       "PM2.5     4945\n",
       "PM10     30155\n",
       "NO         737\n",
       "NO2          0\n",
       "NOx       3457\n",
       "NH3      39579\n",
       "CO        1552\n",
       "SO2       9120\n",
       "O3       10587\n",
       "AQI       1552\n",
       "dtype: int64"
      ]
     },
     "execution_count": 22,
     "metadata": {},
     "output_type": "execute_result"
    }
   ],
   "source": [
    "df_filled1.isnull().sum()"
   ]
  },
  {
   "cell_type": "code",
   "execution_count": 23,
   "id": "14a8f434",
   "metadata": {},
   "outputs": [
    {
     "data": {
      "text/plain": [
       "(107927, 10)"
      ]
     },
     "execution_count": 23,
     "metadata": {},
     "output_type": "execute_result"
    }
   ],
   "source": [
    "df_filled1.shape"
   ]
  },
  {
   "cell_type": "code",
   "execution_count": 24,
   "id": "4d4e00ab",
   "metadata": {},
   "outputs": [
    {
     "data": {
      "text/html": [
       "<div>\n",
       "<style scoped>\n",
       "    .dataframe tbody tr th:only-of-type {\n",
       "        vertical-align: middle;\n",
       "    }\n",
       "\n",
       "    .dataframe tbody tr th {\n",
       "        vertical-align: top;\n",
       "    }\n",
       "\n",
       "    .dataframe thead th {\n",
       "        text-align: right;\n",
       "    }\n",
       "</style>\n",
       "<table border=\"1\" class=\"dataframe\">\n",
       "  <thead>\n",
       "    <tr style=\"text-align: right;\">\n",
       "      <th></th>\n",
       "      <th>PM2.5</th>\n",
       "      <th>PM10</th>\n",
       "      <th>NO</th>\n",
       "      <th>NO2</th>\n",
       "      <th>NOx</th>\n",
       "      <th>NH3</th>\n",
       "      <th>CO</th>\n",
       "      <th>SO2</th>\n",
       "      <th>O3</th>\n",
       "      <th>AQI</th>\n",
       "    </tr>\n",
       "  </thead>\n",
       "  <tbody>\n",
       "    <tr>\n",
       "      <th>0</th>\n",
       "      <td>71.36</td>\n",
       "      <td>115.75</td>\n",
       "      <td>1.75</td>\n",
       "      <td>20.65</td>\n",
       "      <td>12.40</td>\n",
       "      <td>12.19</td>\n",
       "      <td>0.10</td>\n",
       "      <td>10.76</td>\n",
       "      <td>109.26</td>\n",
       "      <td>95.34881</td>\n",
       "    </tr>\n",
       "    <tr>\n",
       "      <th>1</th>\n",
       "      <td>81.40</td>\n",
       "      <td>124.50</td>\n",
       "      <td>1.44</td>\n",
       "      <td>20.50</td>\n",
       "      <td>12.08</td>\n",
       "      <td>10.72</td>\n",
       "      <td>0.12</td>\n",
       "      <td>15.24</td>\n",
       "      <td>127.09</td>\n",
       "      <td>184.00000</td>\n",
       "    </tr>\n",
       "    <tr>\n",
       "      <th>2</th>\n",
       "      <td>78.32</td>\n",
       "      <td>129.06</td>\n",
       "      <td>1.26</td>\n",
       "      <td>26.00</td>\n",
       "      <td>14.85</td>\n",
       "      <td>10.28</td>\n",
       "      <td>0.14</td>\n",
       "      <td>26.96</td>\n",
       "      <td>117.44</td>\n",
       "      <td>197.00000</td>\n",
       "    </tr>\n",
       "    <tr>\n",
       "      <th>3</th>\n",
       "      <td>88.76</td>\n",
       "      <td>135.32</td>\n",
       "      <td>6.60</td>\n",
       "      <td>30.85</td>\n",
       "      <td>21.77</td>\n",
       "      <td>12.91</td>\n",
       "      <td>0.11</td>\n",
       "      <td>33.59</td>\n",
       "      <td>111.81</td>\n",
       "      <td>198.00000</td>\n",
       "    </tr>\n",
       "    <tr>\n",
       "      <th>4</th>\n",
       "      <td>64.18</td>\n",
       "      <td>104.09</td>\n",
       "      <td>2.56</td>\n",
       "      <td>28.07</td>\n",
       "      <td>17.01</td>\n",
       "      <td>11.42</td>\n",
       "      <td>0.09</td>\n",
       "      <td>19.00</td>\n",
       "      <td>138.18</td>\n",
       "      <td>188.00000</td>\n",
       "    </tr>\n",
       "  </tbody>\n",
       "</table>\n",
       "</div>"
      ],
      "text/plain": [
       "   PM2.5    PM10    NO    NO2    NOx    NH3    CO    SO2      O3        AQI\n",
       "0  71.36  115.75  1.75  20.65  12.40  12.19  0.10  10.76  109.26   95.34881\n",
       "1  81.40  124.50  1.44  20.50  12.08  10.72  0.12  15.24  127.09  184.00000\n",
       "2  78.32  129.06  1.26  26.00  14.85  10.28  0.14  26.96  117.44  197.00000\n",
       "3  88.76  135.32  6.60  30.85  21.77  12.91  0.11  33.59  111.81  198.00000\n",
       "4  64.18  104.09  2.56  28.07  17.01  11.42  0.09  19.00  138.18  188.00000"
      ]
     },
     "execution_count": 24,
     "metadata": {},
     "output_type": "execute_result"
    }
   ],
   "source": [
    "df_filled1.head()"
   ]
  },
  {
   "cell_type": "code",
   "execution_count": 25,
   "id": "17317a9d",
   "metadata": {},
   "outputs": [],
   "source": [
    "df_filled1[\"StationId\"]=df2[\"StationId\"]\n",
    "df_filled1[\"City\"]=df2[\"City\"]\n",
    "df_filled1[\"Date\"]=df2[\"Date\"]\n",
    "df_filled1[\"State\"]=df2[\"State\"]\n",
    "df_filled1[\"AQI_Bucket\"]=df2[\"AQI_Bucket\"]"
   ]
  },
  {
   "cell_type": "code",
   "execution_count": 26,
   "id": "250c2f6c",
   "metadata": {},
   "outputs": [],
   "source": [
    "city_wise_grouped=df_filled1.groupby(\"City\")\n",
    "df_filled2=city_wise_grouped.transform(lambda x:x.fillna(x.mean()))"
   ]
  },
  {
   "cell_type": "code",
   "execution_count": 27,
   "id": "c54fbe94",
   "metadata": {},
   "outputs": [],
   "source": [
    "null=pd.DataFrame(df_filled2.isnull().sum())"
   ]
  },
  {
   "cell_type": "code",
   "execution_count": 28,
   "id": "6825f09c",
   "metadata": {},
   "outputs": [],
   "source": [
    "df_filled2[\"StationId\"]=df2[\"StationId\"]\n",
    "df_filled2[\"City\"]=df2[\"City\"]\n",
    "df_filled2[\"Date\"]=df2[\"Date\"]\n",
    "df_filled2[\"State\"]=df2[\"State\"]\n",
    "df_filled2[\"AQI_Bucket\"]=df2[\"AQI_Bucket\"]"
   ]
  },
  {
   "cell_type": "code",
   "execution_count": 29,
   "id": "a59a72b6",
   "metadata": {},
   "outputs": [
    {
     "data": {
      "text/html": [
       "<div>\n",
       "<style scoped>\n",
       "    .dataframe tbody tr th:only-of-type {\n",
       "        vertical-align: middle;\n",
       "    }\n",
       "\n",
       "    .dataframe tbody tr th {\n",
       "        vertical-align: top;\n",
       "    }\n",
       "\n",
       "    .dataframe thead th {\n",
       "        text-align: right;\n",
       "    }\n",
       "</style>\n",
       "<table border=\"1\" class=\"dataframe\">\n",
       "  <thead>\n",
       "    <tr style=\"text-align: right;\">\n",
       "      <th></th>\n",
       "      <th>PM2.5</th>\n",
       "      <th>PM10</th>\n",
       "      <th>NO</th>\n",
       "      <th>NO2</th>\n",
       "      <th>NOx</th>\n",
       "      <th>NH3</th>\n",
       "      <th>CO</th>\n",
       "      <th>SO2</th>\n",
       "      <th>O3</th>\n",
       "      <th>AQI</th>\n",
       "      <th>StationId</th>\n",
       "      <th>City</th>\n",
       "      <th>Date</th>\n",
       "      <th>State</th>\n",
       "      <th>AQI_Bucket</th>\n",
       "    </tr>\n",
       "  </thead>\n",
       "  <tbody>\n",
       "    <tr>\n",
       "      <th>0</th>\n",
       "      <td>71.36</td>\n",
       "      <td>115.75</td>\n",
       "      <td>1.75</td>\n",
       "      <td>20.65</td>\n",
       "      <td>12.40</td>\n",
       "      <td>12.19</td>\n",
       "      <td>0.10</td>\n",
       "      <td>10.76</td>\n",
       "      <td>109.26</td>\n",
       "      <td>95.34881</td>\n",
       "      <td>AP001</td>\n",
       "      <td>Amaravati</td>\n",
       "      <td>24-11-2017</td>\n",
       "      <td>Andhra Pradesh</td>\n",
       "      <td>NaN</td>\n",
       "    </tr>\n",
       "    <tr>\n",
       "      <th>1</th>\n",
       "      <td>81.40</td>\n",
       "      <td>124.50</td>\n",
       "      <td>1.44</td>\n",
       "      <td>20.50</td>\n",
       "      <td>12.08</td>\n",
       "      <td>10.72</td>\n",
       "      <td>0.12</td>\n",
       "      <td>15.24</td>\n",
       "      <td>127.09</td>\n",
       "      <td>184.00000</td>\n",
       "      <td>AP001</td>\n",
       "      <td>Amaravati</td>\n",
       "      <td>25-11-2017</td>\n",
       "      <td>Andhra Pradesh</td>\n",
       "      <td>Moderate</td>\n",
       "    </tr>\n",
       "    <tr>\n",
       "      <th>2</th>\n",
       "      <td>78.32</td>\n",
       "      <td>129.06</td>\n",
       "      <td>1.26</td>\n",
       "      <td>26.00</td>\n",
       "      <td>14.85</td>\n",
       "      <td>10.28</td>\n",
       "      <td>0.14</td>\n",
       "      <td>26.96</td>\n",
       "      <td>117.44</td>\n",
       "      <td>197.00000</td>\n",
       "      <td>AP001</td>\n",
       "      <td>Amaravati</td>\n",
       "      <td>26-11-2017</td>\n",
       "      <td>Andhra Pradesh</td>\n",
       "      <td>Moderate</td>\n",
       "    </tr>\n",
       "    <tr>\n",
       "      <th>3</th>\n",
       "      <td>88.76</td>\n",
       "      <td>135.32</td>\n",
       "      <td>6.60</td>\n",
       "      <td>30.85</td>\n",
       "      <td>21.77</td>\n",
       "      <td>12.91</td>\n",
       "      <td>0.11</td>\n",
       "      <td>33.59</td>\n",
       "      <td>111.81</td>\n",
       "      <td>198.00000</td>\n",
       "      <td>AP001</td>\n",
       "      <td>Amaravati</td>\n",
       "      <td>27-11-2017</td>\n",
       "      <td>Andhra Pradesh</td>\n",
       "      <td>Moderate</td>\n",
       "    </tr>\n",
       "    <tr>\n",
       "      <th>4</th>\n",
       "      <td>64.18</td>\n",
       "      <td>104.09</td>\n",
       "      <td>2.56</td>\n",
       "      <td>28.07</td>\n",
       "      <td>17.01</td>\n",
       "      <td>11.42</td>\n",
       "      <td>0.09</td>\n",
       "      <td>19.00</td>\n",
       "      <td>138.18</td>\n",
       "      <td>188.00000</td>\n",
       "      <td>AP001</td>\n",
       "      <td>Amaravati</td>\n",
       "      <td>28-11-2017</td>\n",
       "      <td>Andhra Pradesh</td>\n",
       "      <td>Moderate</td>\n",
       "    </tr>\n",
       "  </tbody>\n",
       "</table>\n",
       "</div>"
      ],
      "text/plain": [
       "   PM2.5    PM10    NO    NO2    NOx    NH3    CO    SO2      O3        AQI  \\\n",
       "0  71.36  115.75  1.75  20.65  12.40  12.19  0.10  10.76  109.26   95.34881   \n",
       "1  81.40  124.50  1.44  20.50  12.08  10.72  0.12  15.24  127.09  184.00000   \n",
       "2  78.32  129.06  1.26  26.00  14.85  10.28  0.14  26.96  117.44  197.00000   \n",
       "3  88.76  135.32  6.60  30.85  21.77  12.91  0.11  33.59  111.81  198.00000   \n",
       "4  64.18  104.09  2.56  28.07  17.01  11.42  0.09  19.00  138.18  188.00000   \n",
       "\n",
       "  StationId       City        Date           State AQI_Bucket  \n",
       "0     AP001  Amaravati  24-11-2017  Andhra Pradesh        NaN  \n",
       "1     AP001  Amaravati  25-11-2017  Andhra Pradesh   Moderate  \n",
       "2     AP001  Amaravati  26-11-2017  Andhra Pradesh   Moderate  \n",
       "3     AP001  Amaravati  27-11-2017  Andhra Pradesh   Moderate  \n",
       "4     AP001  Amaravati  28-11-2017  Andhra Pradesh   Moderate  "
      ]
     },
     "execution_count": 29,
     "metadata": {},
     "output_type": "execute_result"
    }
   ],
   "source": [
    "df_filled2.head()"
   ]
  },
  {
   "cell_type": "code",
   "execution_count": 30,
   "id": "cfdd6127",
   "metadata": {},
   "outputs": [
    {
     "data": {
      "text/plain": [
       "Text(0.5, 1.0, 'Percentage of null values')"
      ]
     },
     "execution_count": 30,
     "metadata": {},
     "output_type": "execute_result"
    },
    {
     "data": {
      "image/png": "[encoded data removed]",
      "text/plain": [
       "<Figure size 1800x600 with 1 Axes>"
      ]
     },
     "metadata": {},
     "output_type": "display_data"
    }
   ],
   "source": [
    "plt.figure(figsize=(18,6))\n",
    "sns.pointplot(x=null.index,y=(null[0]/(df_filled2.shape[0]))*100)\n",
    "plt.tick_params(axis='both', which='major', labelsize=14)\n",
    "plt.title(label=\"Percentage of null values\",fontsize=25)"
   ]
  },
  {
   "cell_type": "code",
   "execution_count": 31,
   "id": "a35b43ed",
   "metadata": {},
   "outputs": [
    {
     "data": {
      "text/html": [
       "<div>\n",
       "<style scoped>\n",
       "    .dataframe tbody tr th:only-of-type {\n",
       "        vertical-align: middle;\n",
       "    }\n",
       "\n",
       "    .dataframe tbody tr th {\n",
       "        vertical-align: top;\n",
       "    }\n",
       "\n",
       "    .dataframe thead th {\n",
       "        text-align: right;\n",
       "    }\n",
       "</style>\n",
       "<table border=\"1\" class=\"dataframe\">\n",
       "  <thead>\n",
       "    <tr style=\"text-align: right;\">\n",
       "      <th></th>\n",
       "      <th>PM2.5</th>\n",
       "      <th>PM10</th>\n",
       "      <th>NO</th>\n",
       "      <th>NO2</th>\n",
       "      <th>NOx</th>\n",
       "      <th>NH3</th>\n",
       "      <th>CO</th>\n",
       "      <th>SO2</th>\n",
       "      <th>O3</th>\n",
       "      <th>AQI</th>\n",
       "      <th>StationId</th>\n",
       "      <th>City</th>\n",
       "      <th>Date</th>\n",
       "      <th>State</th>\n",
       "      <th>AQI_Bucket</th>\n",
       "    </tr>\n",
       "  </thead>\n",
       "  <tbody>\n",
       "    <tr>\n",
       "      <th>0</th>\n",
       "      <td>71.36</td>\n",
       "      <td>115.75</td>\n",
       "      <td>1.750000</td>\n",
       "      <td>20.650000</td>\n",
       "      <td>12.400000</td>\n",
       "      <td>12.190000</td>\n",
       "      <td>0.10</td>\n",
       "      <td>10.76</td>\n",
       "      <td>109.26</td>\n",
       "      <td>95.34881</td>\n",
       "      <td>AP001</td>\n",
       "      <td>Amaravati</td>\n",
       "      <td>24-11-2017</td>\n",
       "      <td>Andhra Pradesh</td>\n",
       "      <td>NaN</td>\n",
       "    </tr>\n",
       "    <tr>\n",
       "      <th>1</th>\n",
       "      <td>81.40</td>\n",
       "      <td>124.50</td>\n",
       "      <td>1.440000</td>\n",
       "      <td>20.500000</td>\n",
       "      <td>12.080000</td>\n",
       "      <td>10.720000</td>\n",
       "      <td>0.12</td>\n",
       "      <td>15.24</td>\n",
       "      <td>127.09</td>\n",
       "      <td>184.00000</td>\n",
       "      <td>AP001</td>\n",
       "      <td>Amaravati</td>\n",
       "      <td>25-11-2017</td>\n",
       "      <td>Andhra Pradesh</td>\n",
       "      <td>Moderate</td>\n",
       "    </tr>\n",
       "    <tr>\n",
       "      <th>2</th>\n",
       "      <td>78.32</td>\n",
       "      <td>129.06</td>\n",
       "      <td>1.260000</td>\n",
       "      <td>26.000000</td>\n",
       "      <td>14.850000</td>\n",
       "      <td>10.280000</td>\n",
       "      <td>0.14</td>\n",
       "      <td>26.96</td>\n",
       "      <td>117.44</td>\n",
       "      <td>197.00000</td>\n",
       "      <td>AP001</td>\n",
       "      <td>Amaravati</td>\n",
       "      <td>26-11-2017</td>\n",
       "      <td>Andhra Pradesh</td>\n",
       "      <td>Moderate</td>\n",
       "    </tr>\n",
       "    <tr>\n",
       "      <th>3</th>\n",
       "      <td>88.76</td>\n",
       "      <td>135.32</td>\n",
       "      <td>6.600000</td>\n",
       "      <td>30.850000</td>\n",
       "      <td>21.770000</td>\n",
       "      <td>12.910000</td>\n",
       "      <td>0.11</td>\n",
       "      <td>33.59</td>\n",
       "      <td>111.81</td>\n",
       "      <td>198.00000</td>\n",
       "      <td>AP001</td>\n",
       "      <td>Amaravati</td>\n",
       "      <td>27-11-2017</td>\n",
       "      <td>Andhra Pradesh</td>\n",
       "      <td>Moderate</td>\n",
       "    </tr>\n",
       "    <tr>\n",
       "      <th>4</th>\n",
       "      <td>64.18</td>\n",
       "      <td>104.09</td>\n",
       "      <td>2.560000</td>\n",
       "      <td>28.070000</td>\n",
       "      <td>17.010000</td>\n",
       "      <td>11.420000</td>\n",
       "      <td>0.09</td>\n",
       "      <td>19.00</td>\n",
       "      <td>138.18</td>\n",
       "      <td>188.00000</td>\n",
       "      <td>AP001</td>\n",
       "      <td>Amaravati</td>\n",
       "      <td>28-11-2017</td>\n",
       "      <td>Andhra Pradesh</td>\n",
       "      <td>Moderate</td>\n",
       "    </tr>\n",
       "    <tr>\n",
       "      <th>...</th>\n",
       "      <td>...</td>\n",
       "      <td>...</td>\n",
       "      <td>...</td>\n",
       "      <td>...</td>\n",
       "      <td>...</td>\n",
       "      <td>...</td>\n",
       "      <td>...</td>\n",
       "      <td>...</td>\n",
       "      <td>...</td>\n",
       "      <td>...</td>\n",
       "      <td>...</td>\n",
       "      <td>...</td>\n",
       "      <td>...</td>\n",
       "      <td>...</td>\n",
       "      <td>...</td>\n",
       "    </tr>\n",
       "    <tr>\n",
       "      <th>107922</th>\n",
       "      <td>9.79</td>\n",
       "      <td>19.87</td>\n",
       "      <td>23.510000</td>\n",
       "      <td>16.500000</td>\n",
       "      <td>40.020000</td>\n",
       "      <td>25.090000</td>\n",
       "      <td>0.66</td>\n",
       "      <td>10.34</td>\n",
       "      <td>30.19</td>\n",
       "      <td>50.00000</td>\n",
       "      <td>WB013</td>\n",
       "      <td>Kolkata</td>\n",
       "      <td>26-06-2020</td>\n",
       "      <td>West Bengal</td>\n",
       "      <td>Good</td>\n",
       "    </tr>\n",
       "    <tr>\n",
       "      <th>107923</th>\n",
       "      <td>8.65</td>\n",
       "      <td>16.46</td>\n",
       "      <td>34.553346</td>\n",
       "      <td>46.513716</td>\n",
       "      <td>73.630676</td>\n",
       "      <td>19.740925</td>\n",
       "      <td>0.69</td>\n",
       "      <td>4.36</td>\n",
       "      <td>30.59</td>\n",
       "      <td>50.00000</td>\n",
       "      <td>WB013</td>\n",
       "      <td>Kolkata</td>\n",
       "      <td>27-06-2020</td>\n",
       "      <td>West Bengal</td>\n",
       "      <td>Good</td>\n",
       "    </tr>\n",
       "    <tr>\n",
       "      <th>107924</th>\n",
       "      <td>11.80</td>\n",
       "      <td>18.47</td>\n",
       "      <td>34.553346</td>\n",
       "      <td>46.513716</td>\n",
       "      <td>73.630676</td>\n",
       "      <td>19.740925</td>\n",
       "      <td>0.68</td>\n",
       "      <td>3.49</td>\n",
       "      <td>38.95</td>\n",
       "      <td>65.00000</td>\n",
       "      <td>WB013</td>\n",
       "      <td>Kolkata</td>\n",
       "      <td>28-06-2020</td>\n",
       "      <td>West Bengal</td>\n",
       "      <td>Satisfactory</td>\n",
       "    </tr>\n",
       "    <tr>\n",
       "      <th>107925</th>\n",
       "      <td>18.60</td>\n",
       "      <td>32.26</td>\n",
       "      <td>13.650000</td>\n",
       "      <td>200.870000</td>\n",
       "      <td>214.200000</td>\n",
       "      <td>11.400000</td>\n",
       "      <td>0.78</td>\n",
       "      <td>5.12</td>\n",
       "      <td>38.17</td>\n",
       "      <td>63.00000</td>\n",
       "      <td>WB013</td>\n",
       "      <td>Kolkata</td>\n",
       "      <td>29-06-2020</td>\n",
       "      <td>West Bengal</td>\n",
       "      <td>Satisfactory</td>\n",
       "    </tr>\n",
       "    <tr>\n",
       "      <th>107926</th>\n",
       "      <td>16.07</td>\n",
       "      <td>39.30</td>\n",
       "      <td>7.560000</td>\n",
       "      <td>29.130000</td>\n",
       "      <td>36.690000</td>\n",
       "      <td>29.260000</td>\n",
       "      <td>0.69</td>\n",
       "      <td>5.88</td>\n",
       "      <td>29.64</td>\n",
       "      <td>57.00000</td>\n",
       "      <td>WB013</td>\n",
       "      <td>Kolkata</td>\n",
       "      <td>30-06-2020</td>\n",
       "      <td>West Bengal</td>\n",
       "      <td>Satisfactory</td>\n",
       "    </tr>\n",
       "  </tbody>\n",
       "</table>\n",
       "<p>107927 rows × 15 columns</p>\n",
       "</div>"
      ],
      "text/plain": [
       "        PM2.5    PM10         NO         NO2         NOx        NH3    CO  \\\n",
       "0       71.36  115.75   1.750000   20.650000   12.400000  12.190000  0.10   \n",
       "1       81.40  124.50   1.440000   20.500000   12.080000  10.720000  0.12   \n",
       "2       78.32  129.06   1.260000   26.000000   14.850000  10.280000  0.14   \n",
       "3       88.76  135.32   6.600000   30.850000   21.770000  12.910000  0.11   \n",
       "4       64.18  104.09   2.560000   28.070000   17.010000  11.420000  0.09   \n",
       "...       ...     ...        ...         ...         ...        ...   ...   \n",
       "107922   9.79   19.87  23.510000   16.500000   40.020000  25.090000  0.66   \n",
       "107923   8.65   16.46  34.553346   46.513716   73.630676  19.740925  0.69   \n",
       "107924  11.80   18.47  34.553346   46.513716   73.630676  19.740925  0.68   \n",
       "107925  18.60   32.26  13.650000  200.870000  214.200000  11.400000  0.78   \n",
       "107926  16.07   39.30   7.560000   29.130000   36.690000  29.260000  0.69   \n",
       "\n",
       "          SO2      O3        AQI StationId       City        Date  \\\n",
       "0       10.76  109.26   95.34881     AP001  Amaravati  24-11-2017   \n",
       "1       15.24  127.09  184.00000     AP001  Amaravati  25-11-2017   \n",
       "2       26.96  117.44  197.00000     AP001  Amaravati  26-11-2017   \n",
       "3       33.59  111.81  198.00000     AP001  Amaravati  27-11-2017   \n",
       "4       19.00  138.18  188.00000     AP001  Amaravati  28-11-2017   \n",
       "...       ...     ...        ...       ...        ...         ...   \n",
       "107922  10.34   30.19   50.00000     WB013    Kolkata  26-06-2020   \n",
       "107923   4.36   30.59   50.00000     WB013    Kolkata  27-06-2020   \n",
       "107924   3.49   38.95   65.00000     WB013    Kolkata  28-06-2020   \n",
       "107925   5.12   38.17   63.00000     WB013    Kolkata  29-06-2020   \n",
       "107926   5.88   29.64   57.00000     WB013    Kolkata  30-06-2020   \n",
       "\n",
       "                 State    AQI_Bucket  \n",
       "0       Andhra Pradesh           NaN  \n",
       "1       Andhra Pradesh      Moderate  \n",
       "2       Andhra Pradesh      Moderate  \n",
       "3       Andhra Pradesh      Moderate  \n",
       "4       Andhra Pradesh      Moderate  \n",
       "...                ...           ...  \n",
       "107922     West Bengal          Good  \n",
       "107923     West Bengal          Good  \n",
       "107924     West Bengal  Satisfactory  \n",
       "107925     West Bengal  Satisfactory  \n",
       "107926     West Bengal  Satisfactory  \n",
       "\n",
       "[107927 rows x 15 columns]"
      ]
     },
     "execution_count": 31,
     "metadata": {},
     "output_type": "execute_result"
    }
   ],
   "source": [
    "df_filled2[\"PM10\"]=df_filled2[\"PM10\"].fillna(method=\"ffill\")\n",
    "df_filled2"
   ]
  },
  {
   "cell_type": "code",
   "execution_count": 32,
   "id": "2db098d2",
   "metadata": {},
   "outputs": [],
   "source": [
    "df_filled2.insert(0, 'StationId', df_filled2.pop('StationId'))\n",
    "df_filled2.insert(1, 'Date', df_filled2.pop('Date'))"
   ]
  },
  {
   "cell_type": "code",
   "execution_count": 33,
   "id": "4cd007ba",
   "metadata": {},
   "outputs": [
    {
     "data": {
      "text/html": [
       "<div>\n",
       "<style scoped>\n",
       "    .dataframe tbody tr th:only-of-type {\n",
       "        vertical-align: middle;\n",
       "    }\n",
       "\n",
       "    .dataframe tbody tr th {\n",
       "        vertical-align: top;\n",
       "    }\n",
       "\n",
       "    .dataframe thead th {\n",
       "        text-align: right;\n",
       "    }\n",
       "</style>\n",
       "<table border=\"1\" class=\"dataframe\">\n",
       "  <thead>\n",
       "    <tr style=\"text-align: right;\">\n",
       "      <th></th>\n",
       "      <th>StationId</th>\n",
       "      <th>Date</th>\n",
       "      <th>PM2.5</th>\n",
       "      <th>PM10</th>\n",
       "      <th>NO</th>\n",
       "      <th>NO2</th>\n",
       "      <th>NOx</th>\n",
       "      <th>NH3</th>\n",
       "      <th>CO</th>\n",
       "      <th>SO2</th>\n",
       "      <th>O3</th>\n",
       "      <th>AQI</th>\n",
       "      <th>City</th>\n",
       "      <th>State</th>\n",
       "      <th>AQI_Bucket</th>\n",
       "    </tr>\n",
       "  </thead>\n",
       "  <tbody>\n",
       "    <tr>\n",
       "      <th>0</th>\n",
       "      <td>AP001</td>\n",
       "      <td>24-11-2017</td>\n",
       "      <td>71.36</td>\n",
       "      <td>115.75</td>\n",
       "      <td>1.75</td>\n",
       "      <td>20.65</td>\n",
       "      <td>12.40</td>\n",
       "      <td>12.19</td>\n",
       "      <td>0.10</td>\n",
       "      <td>10.76</td>\n",
       "      <td>109.26</td>\n",
       "      <td>95.34881</td>\n",
       "      <td>Amaravati</td>\n",
       "      <td>Andhra Pradesh</td>\n",
       "      <td>NaN</td>\n",
       "    </tr>\n",
       "    <tr>\n",
       "      <th>1</th>\n",
       "      <td>AP001</td>\n",
       "      <td>25-11-2017</td>\n",
       "      <td>81.40</td>\n",
       "      <td>124.50</td>\n",
       "      <td>1.44</td>\n",
       "      <td>20.50</td>\n",
       "      <td>12.08</td>\n",
       "      <td>10.72</td>\n",
       "      <td>0.12</td>\n",
       "      <td>15.24</td>\n",
       "      <td>127.09</td>\n",
       "      <td>184.00000</td>\n",
       "      <td>Amaravati</td>\n",
       "      <td>Andhra Pradesh</td>\n",
       "      <td>Moderate</td>\n",
       "    </tr>\n",
       "    <tr>\n",
       "      <th>2</th>\n",
       "      <td>AP001</td>\n",
       "      <td>26-11-2017</td>\n",
       "      <td>78.32</td>\n",
       "      <td>129.06</td>\n",
       "      <td>1.26</td>\n",
       "      <td>26.00</td>\n",
       "      <td>14.85</td>\n",
       "      <td>10.28</td>\n",
       "      <td>0.14</td>\n",
       "      <td>26.96</td>\n",
       "      <td>117.44</td>\n",
       "      <td>197.00000</td>\n",
       "      <td>Amaravati</td>\n",
       "      <td>Andhra Pradesh</td>\n",
       "      <td>Moderate</td>\n",
       "    </tr>\n",
       "    <tr>\n",
       "      <th>3</th>\n",
       "      <td>AP001</td>\n",
       "      <td>27-11-2017</td>\n",
       "      <td>88.76</td>\n",
       "      <td>135.32</td>\n",
       "      <td>6.60</td>\n",
       "      <td>30.85</td>\n",
       "      <td>21.77</td>\n",
       "      <td>12.91</td>\n",
       "      <td>0.11</td>\n",
       "      <td>33.59</td>\n",
       "      <td>111.81</td>\n",
       "      <td>198.00000</td>\n",
       "      <td>Amaravati</td>\n",
       "      <td>Andhra Pradesh</td>\n",
       "      <td>Moderate</td>\n",
       "    </tr>\n",
       "    <tr>\n",
       "      <th>4</th>\n",
       "      <td>AP001</td>\n",
       "      <td>28-11-2017</td>\n",
       "      <td>64.18</td>\n",
       "      <td>104.09</td>\n",
       "      <td>2.56</td>\n",
       "      <td>28.07</td>\n",
       "      <td>17.01</td>\n",
       "      <td>11.42</td>\n",
       "      <td>0.09</td>\n",
       "      <td>19.00</td>\n",
       "      <td>138.18</td>\n",
       "      <td>188.00000</td>\n",
       "      <td>Amaravati</td>\n",
       "      <td>Andhra Pradesh</td>\n",
       "      <td>Moderate</td>\n",
       "    </tr>\n",
       "  </tbody>\n",
       "</table>\n",
       "</div>"
      ],
      "text/plain": [
       "  StationId        Date  PM2.5    PM10    NO    NO2    NOx    NH3    CO  \\\n",
       "0     AP001  24-11-2017  71.36  115.75  1.75  20.65  12.40  12.19  0.10   \n",
       "1     AP001  25-11-2017  81.40  124.50  1.44  20.50  12.08  10.72  0.12   \n",
       "2     AP001  26-11-2017  78.32  129.06  1.26  26.00  14.85  10.28  0.14   \n",
       "3     AP001  27-11-2017  88.76  135.32  6.60  30.85  21.77  12.91  0.11   \n",
       "4     AP001  28-11-2017  64.18  104.09  2.56  28.07  17.01  11.42  0.09   \n",
       "\n",
       "     SO2      O3        AQI       City           State AQI_Bucket  \n",
       "0  10.76  109.26   95.34881  Amaravati  Andhra Pradesh        NaN  \n",
       "1  15.24  127.09  184.00000  Amaravati  Andhra Pradesh   Moderate  \n",
       "2  26.96  117.44  197.00000  Amaravati  Andhra Pradesh   Moderate  \n",
       "3  33.59  111.81  198.00000  Amaravati  Andhra Pradesh   Moderate  \n",
       "4  19.00  138.18  188.00000  Amaravati  Andhra Pradesh   Moderate  "
      ]
     },
     "execution_count": 33,
     "metadata": {},
     "output_type": "execute_result"
    }
   ],
   "source": [
    "df_filled2.head()"
   ]
  },
  {
   "cell_type": "code",
   "execution_count": 34,
   "id": "a7349cd8",
   "metadata": {},
   "outputs": [
    {
     "data": {
      "text/plain": [
       "6"
      ]
     },
     "execution_count": 34,
     "metadata": {},
     "output_type": "execute_result"
    }
   ],
   "source": [
    "df_filled2[\"AQI_Bucket\"].nunique()"
   ]
  },
  {
   "cell_type": "code",
   "execution_count": 35,
   "id": "e93f80f9",
   "metadata": {},
   "outputs": [
    {
     "data": {
      "text/plain": [
       "Moderate        29388\n",
       "Satisfactory    23590\n",
       "Very Poor       11762\n",
       "Poor            11492\n",
       "Good             5487\n",
       "Severe           5207\n",
       "Name: AQI_Bucket, dtype: int64"
      ]
     },
     "execution_count": 35,
     "metadata": {},
     "output_type": "execute_result"
    }
   ],
   "source": [
    "df_filled2[\"AQI_Bucket\"].value_counts()"
   ]
  },
  {
   "cell_type": "code",
   "execution_count": 36,
   "id": "0a2caf9c",
   "metadata": {},
   "outputs": [],
   "source": [
    "aqi_df=pd.DataFrame({\"AQI\":df_filled2[\"AQI\"],\n",
    "                    \"AQI_Bucket\":df_filled2[\"AQI_Bucket\"]})"
   ]
  },
  {
   "cell_type": "code",
   "execution_count": 37,
   "id": "2c210c48",
   "metadata": {},
   "outputs": [],
   "source": [
    "#aqi_df[\"AQI_Bucket\"]=aqi_df[\"AQI_Bucket\"].fillna(\"N\")"
   ]
  },
  {
   "cell_type": "code",
   "execution_count": 38,
   "id": "01cba4c4",
   "metadata": {},
   "outputs": [],
   "source": [
    "from sklearn.preprocessing import LabelEncoder\n",
    "from sklearn.impute import KNNImputer"
   ]
  },
  {
   "cell_type": "code",
   "execution_count": 39,
   "id": "0d134e05",
   "metadata": {},
   "outputs": [
    {
     "data": {
      "text/plain": [
       "Moderate        29388\n",
       "Satisfactory    23590\n",
       "Very Poor       11762\n",
       "Poor            11492\n",
       "Good             5487\n",
       "Severe           5207\n",
       "Name: AQI_Bucket, dtype: int64"
      ]
     },
     "execution_count": 39,
     "metadata": {},
     "output_type": "execute_result"
    }
   ],
   "source": [
    "aqi_df[\"AQI_Bucket\"].value_counts()"
   ]
  },
  {
   "cell_type": "code",
   "execution_count": 40,
   "id": "89c2147a",
   "metadata": {},
   "outputs": [],
   "source": [
    "aqi_df[\"AQI_Bucket\"]=aqi_df[\"AQI_Bucket\"].replace(\"Good\",1)\n",
    "aqi_df[\"AQI_Bucket\"]=aqi_df[\"AQI_Bucket\"].replace(\"Moderate\",2)\n",
    "aqi_df[\"AQI_Bucket\"]=aqi_df[\"AQI_Bucket\"].replace(\"Satisfactory\",3)\n",
    "aqi_df[\"AQI_Bucket\"]=aqi_df[\"AQI_Bucket\"].replace(\"Poor\",4)\n",
    "aqi_df[\"AQI_Bucket\"]=aqi_df[\"AQI_Bucket\"].replace(\"Very Poor\",5)\n",
    "aqi_df[\"AQI_Bucket\"]=aqi_df[\"AQI_Bucket\"].replace(\"Severe\",6)"
   ]
  },
  {
   "cell_type": "code",
   "execution_count": 41,
   "id": "c62235a3",
   "metadata": {},
   "outputs": [],
   "source": [
    "column_values = aqi_df[\"AQI_Bucket\"].values.reshape(-1, 1)"
   ]
  },
  {
   "cell_type": "code",
   "execution_count": 42,
   "id": "b986e367",
   "metadata": {},
   "outputs": [
    {
     "data": {
      "text/plain": [
       "2.0    29388\n",
       "3.0    23590\n",
       "5.0    11762\n",
       "4.0    11492\n",
       "1.0     5487\n",
       "6.0     5207\n",
       "Name: AQI_Bucket, dtype: int64"
      ]
     },
     "execution_count": 42,
     "metadata": {},
     "output_type": "execute_result"
    }
   ],
   "source": [
    "aqi_df[\"AQI_Bucket\"].value_counts()"
   ]
  },
  {
   "cell_type": "markdown",
   "id": "d79e6310",
   "metadata": {},
   "source": [
    "###  Filling Null values using KNN imputer"
   ]
  },
  {
   "cell_type": "code",
   "execution_count": null,
   "id": "b6af86d8",
   "metadata": {},
   "outputs": [],
   "source": [
    "knn_imputer = KNNImputer(n_neighbors=5)\n",
    "\n",
    "imputed_data = knn_imputer.fit_transform(aqi_df)"
   ]
  },
  {
   "cell_type": "code",
   "execution_count": null,
   "id": "5a3785bb",
   "metadata": {},
   "outputs": [],
   "source": [
    "df_imputed = pd.DataFrame(knn_imputer.fit_transform(aqi_df), columns=aqi_df.columns)"
   ]
  },
  {
   "cell_type": "code",
   "execution_count": null,
   "id": "947b4622",
   "metadata": {},
   "outputs": [],
   "source": [
    "df_imputed.isnull().sum()"
   ]
  },
  {
   "cell_type": "code",
   "execution_count": null,
   "id": "b1f2293d",
   "metadata": {
    "scrolled": true
   },
   "outputs": [],
   "source": [
    "df_imputed[\"AQI_Bucket\"].value_counts()"
   ]
  },
  {
   "cell_type": "code",
   "execution_count": null,
   "id": "67b19e19",
   "metadata": {},
   "outputs": [],
   "source": [
    "df_imputed[\"AQI_Bucket\"]=df_imputed[\"AQI_Bucket\"].replace(1,\"Good\")\n",
    "df_imputed[\"AQI_Bucket\"]=df_imputed[\"AQI_Bucket\"].replace(2,\"Moderate\")\n",
    "df_imputed[\"AQI_Bucket\"]=df_imputed[\"AQI_Bucket\"].replace(3,\"Satisfactory\")\n",
    "df_imputed[\"AQI_Bucket\"]=df_imputed[\"AQI_Bucket\"].replace(4,\"Poor\")\n",
    "df_imputed[\"AQI_Bucket\"]=df_imputed[\"AQI_Bucket\"].replace(5,\"Very Poor\")\n",
    "df_imputed[\"AQI_Bucket\"]=df_imputed[\"AQI_Bucket\"].replace(6,\"Severe\")"
   ]
  },
  {
   "cell_type": "code",
   "execution_count": null,
   "id": "6413ea0d",
   "metadata": {},
   "outputs": [],
   "source": [
    "df_filled2[\"AQI_Bucket\"]=df_imputed[\"AQI_Bucket\"]"
   ]
  },
  {
   "cell_type": "code",
   "execution_count": null,
   "id": "d6c84789",
   "metadata": {},
   "outputs": [],
   "source": [
    "df_filled=df_filled2.fillna(\"ffill\")"
   ]
  },
  {
   "cell_type": "code",
   "execution_count": null,
   "id": "e0093e7f",
   "metadata": {},
   "outputs": [],
   "source": [
    "null=pd.DataFrame(df_filled.isnull().sum())"
   ]
  },
  {
   "cell_type": "code",
   "execution_count": null,
   "id": "e19d13de",
   "metadata": {},
   "outputs": [],
   "source": [
    "plt.figure(figsize=(18,6))\n",
    "sns.pointplot(x=null.index,y=(null[0]/(df_filled.shape[0]))*100)\n",
    "plt.tick_params(axis='both', which='major', labelsize=14)\n",
    "plt.title(label=\"Percentage of null values\",fontsize=25)"
   ]
  },
  {
   "cell_type": "markdown",
   "id": "9ae1becf",
   "metadata": {},
   "source": [
    "## Outliers"
   ]
  },
  {
   "cell_type": "code",
   "execution_count": null,
   "id": "60b855ae",
   "metadata": {
    "scrolled": false
   },
   "outputs": [],
   "source": [
    "num_col=pd.DataFrame(df_filled.select_dtypes(include=\"float64\")).columns\n",
    "\n",
    "for i in num_col:\n",
    "    plt.figure(figsize=(17,1))\n",
    "    sns.boxplot(data=df_filled,x=i)\n",
    "    plt.title(i)\n",
    "plt.show()"
   ]
  },
  {
   "cell_type": "code",
   "execution_count": null,
   "id": "1fb5381d",
   "metadata": {},
   "outputs": [],
   "source": [
    "def outlier_percent(data):\n",
    "    n=len(list(data))\n",
    "    outlier=0\n",
    "    \n",
    "    q1=np.percentile(data,25)\n",
    "    q3=np.percentile(data,75)\n",
    "    \n",
    "    iqr=q3-q1\n",
    "    \n",
    "    lower_range=q1-(iqr*1.5)\n",
    "    upper_range=q3+(iqr*1.5)\n",
    "    \n",
    "    for i,j in enumerate(data):\n",
    "        if(j<=lower_range or j>=upper_range):\n",
    "            outlier=outlier+1\n",
    "    percent=(outlier/n)*100\n",
    "    return percent\n",
    "    "
   ]
  },
  {
   "cell_type": "code",
   "execution_count": null,
   "id": "c8df1db1",
   "metadata": {},
   "outputs": [],
   "source": []
  },
  {
   "cell_type": "code",
   "execution_count": null,
   "id": "cf013290",
   "metadata": {},
   "outputs": [],
   "source": [
    "# Preparing Outlier Data\n",
    "outlier_data=[]\n",
    "for i in num_col:\n",
    "    outlier_data.append(outlier_percent(df_filled[i]))\n",
    "\n",
    "outlier_df=pd.DataFrame({\"col\":num_col,\n",
    "                       \"percent\":outlier_data})\n",
    "#plotting outlier data\n",
    "sns.pointplot(data=outlier_df,x=outlier_df[\"col\"],y=outlier_df[\"percent\"])\n",
    "plt.title(\"Outliers\")"
   ]
  },
  {
   "cell_type": "code",
   "execution_count": null,
   "id": "3270ec1b",
   "metadata": {},
   "outputs": [],
   "source": [
    "# Function for outlier removal\n",
    "\n",
    "def outlier_removed(data):\n",
    "    data_mean=data.mean()\n",
    "    data=data.to_list()\n",
    "    \n",
    "    q1=np.percentile(data,25)\n",
    "    q3=np.percentile(data,75)\n",
    "    \n",
    "    iqr=q3-q1\n",
    "    \n",
    "    lower_range=q1-(iqr*1.5)\n",
    "    upper_range=q3+(iqr*1.5)\n",
    "    \n",
    "    for i,j in enumerate(data):\n",
    "        if j<=lower_range or j>=upper_range:\n",
    "            data[i]=data_mean\n",
    "    \n",
    "    return data"
   ]
  },
  {
   "cell_type": "code",
   "execution_count": null,
   "id": "863b0d1a",
   "metadata": {},
   "outputs": [],
   "source": [
    "# Removing outliers\n",
    "for j in range(0,9):\n",
    "    for i in num_col:\n",
    "        df_filled[i]=outlier_removed(df_filled[i])"
   ]
  },
  {
   "cell_type": "code",
   "execution_count": null,
   "id": "3fff0c76",
   "metadata": {},
   "outputs": [],
   "source": [
    "for i in num_col:\n",
    "    plt.figure(figsize=(17,1))\n",
    "    sns.boxplot(data=df_filled,x=i)\n",
    "    plt.title(i)\n",
    "plt.show()"
   ]
  },
  {
   "cell_type": "code",
   "execution_count": null,
   "id": "6913234b",
   "metadata": {},
   "outputs": [],
   "source": [
    "def outlier_percent(data):\n",
    "    n=len(list(data))\n",
    "    outlier=0\n",
    "    \n",
    "    q1=np.percentile(data,25)\n",
    "    q3=np.percentile(data,75)\n",
    "    \n",
    "    iqr=q3-q1\n",
    "    \n",
    "    lower_range=q1-(iqr*1.5)\n",
    "    upper_range=q3+(iqr*1.5)\n",
    "    \n",
    "    for i,j in enumerate(data):\n",
    "        if(j<=lower_range or j>=upper_range):\n",
    "            outlier=outlier+1\n",
    "    percent=(outlier/n)*100\n",
    "    return percent"
   ]
  },
  {
   "cell_type": "code",
   "execution_count": null,
   "id": "59edbb3b",
   "metadata": {},
   "outputs": [],
   "source": [
    "# Preparing Outlier Data\n",
    "outlier_data=[]\n",
    "for i in num_col:\n",
    "    outlier_data.append(outlier_percent(df_filled[i]))\n",
    "\n",
    "outlier_df=pd.DataFrame({\"col\":num_col,\n",
    "                       \"percent\":outlier_data})\n",
    "#plotting outlier data\n",
    "plt.figure(figsize=(8,2))\n",
    "sns.pointplot(data=outlier_df,x=outlier_df[\"col\"],y=outlier_df[\"percent\"])\n",
    "plt.title(\"Outliers\")"
   ]
  },
  {
   "cell_type": "code",
   "execution_count": null,
   "id": "d74906af",
   "metadata": {},
   "outputs": [],
   "source": [
    "df_filled"
   ]
  },
  {
   "cell_type": "markdown",
   "id": "4d3050fc",
   "metadata": {},
   "source": [
    "## Exploratory Data Analysis"
   ]
  },
  {
   "cell_type": "code",
   "execution_count": null,
   "id": "a352ca21",
   "metadata": {},
   "outputs": [],
   "source": [
    "plt.figure(figsize=(8,4),dpi=200)\n",
    "palette ={'Good': \"g\", 'Poor': \"C0\", 'Very Poor': \"C1\",'Severe': \"r\",\"Moderate\": 'b',\"Satisfactory\":'y'}\n",
    "sns.scatterplot(x= 'AQI', y= 'PM10', data=df_filled,hue ='AQI_Bucket',palette = palette)"
   ]
  },
  {
   "cell_type": "code",
   "execution_count": null,
   "id": "f0be2eb5",
   "metadata": {},
   "outputs": [],
   "source": [
    "city_wise_AQI = df_filled[['City','AQI']].groupby(['City']).mean().sort_values(['AQI']).reset_index()"
   ]
  },
  {
   "cell_type": "code",
   "execution_count": null,
   "id": "8a8a6add",
   "metadata": {},
   "outputs": [],
   "source": [
    "plt.figure(figsize=(15,5))\n",
    "sns.set(font_scale=1.5)\n",
    "sns.barplot(x='City', y='AQI', data=city_wise_AQI).set(title ='Cities & AQI')\n",
    "plt.xticks(rotation=90)\n",
    "plt.show()"
   ]
  },
  {
   "cell_type": "code",
   "execution_count": null,
   "id": "8cf93a2b",
   "metadata": {},
   "outputs": [],
   "source": []
  }
 ],
 "metadata": {
  "kernelspec": {
   "display_name": "Python 3 (ipykernel)",
   "language": "python",
   "name": "python3"
  },
  "language_info": {
   "codemirror_mode": {
    "name": "ipython",
    "version": 3
   },
   "file_extension": ".py",
   "mimetype": "text/x-python",
   "name": "python",
   "nbconvert_exporter": "python",
   "pygments_lexer": "ipython3",
   "version": "3.10.9"
  }
 },
 "nbformat": 4,
 "nbformat_minor": 5
}
