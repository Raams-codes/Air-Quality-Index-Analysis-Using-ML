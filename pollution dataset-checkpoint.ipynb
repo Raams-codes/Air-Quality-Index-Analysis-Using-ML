{
 "cells": [
  {
   "cell_type": "markdown",
   "id": "c891c2f9",
   "metadata": {},
   "source": [
    "# India Air Quality Dataset "
   ]
  },
  {
   "cell_type": "code",
   "execution_count": 1,
   "id": "1a8eb3cd",
   "metadata": {},
   "outputs": [],
   "source": [
    "import pandas as pd\n",
    "import matplotlib.pyplot as plt\n",
    "import seaborn as sns"
   ]
  },
  {
   "cell_type": "code",
   "execution_count": 2,
   "id": "70ca34a9",
   "metadata": {
    "scrolled": true
   },
   "outputs": [
    {
     "name": "stderr",
     "output_type": "stream",
     "text": [
      "C:\\Users\\DELL\\AppData\\Local\\Temp\\ipykernel_11764\\4110406777.py:1: DtypeWarning: Columns (15) have mixed types. Specify dtype option on import or set low_memory=False.\n",
      "  data=pd.read_csv(\"C:\\\\Users\\\\DELL\\\\Desktop\\\\POLLUTION Dataset\\\\station_hour.csv\")\n"
     ]
    }
   ],
   "source": [
    "data=pd.read_csv(\"C:\\\\Users\\\\DELL\\\\Desktop\\\\POLLUTION Dataset\\\\station_hour.csv\")"
   ]
  },
  {
   "cell_type": "code",
   "execution_count": 3,
   "id": "1621696c",
   "metadata": {},
   "outputs": [
    {
     "data": {
      "text/plain": [
       "(2589083, 16)"
      ]
     },
     "execution_count": 3,
     "metadata": {},
     "output_type": "execute_result"
    }
   ],
   "source": [
    "data.shape"
   ]
  },
  {
   "cell_type": "code",
   "execution_count": 4,
   "id": "4de0848e",
   "metadata": {},
   "outputs": [],
   "source": [
    "station=pd.read_csv(\"C:\\\\Users\\\\DELL\\\\Desktop\\\\POLLUTION Dataset\\\\stations.csv\")"
   ]
  },
  {
   "cell_type": "code",
   "execution_count": 5,
   "id": "ecddc33b",
   "metadata": {},
   "outputs": [
    {
     "data": {
      "text/plain": [
       "(230, 5)"
      ]
     },
     "execution_count": 5,
     "metadata": {},
     "output_type": "execute_result"
    }
   ],
   "source": [
    "station.shape"
   ]
  },
  {
   "cell_type": "code",
   "execution_count": 6,
   "id": "92c0e9a8",
   "metadata": {},
   "outputs": [
    {
     "data": {
      "text/html": [
       "<div>\n",
       "<style scoped>\n",
       "    .dataframe tbody tr th:only-of-type {\n",
       "        vertical-align: middle;\n",
       "    }\n",
       "\n",
       "    .dataframe tbody tr th {\n",
       "        vertical-align: top;\n",
       "    }\n",
       "\n",
       "    .dataframe thead th {\n",
       "        text-align: right;\n",
       "    }\n",
       "</style>\n",
       "<table border=\"1\" class=\"dataframe\">\n",
       "  <thead>\n",
       "    <tr style=\"text-align: right;\">\n",
       "      <th></th>\n",
       "      <th>StationId</th>\n",
       "      <th>Datetime</th>\n",
       "      <th>PM2.5</th>\n",
       "      <th>PM10</th>\n",
       "      <th>NO</th>\n",
       "      <th>NO2</th>\n",
       "      <th>NOx</th>\n",
       "      <th>NH3</th>\n",
       "      <th>CO</th>\n",
       "      <th>SO2</th>\n",
       "      <th>O3</th>\n",
       "      <th>Benzene</th>\n",
       "      <th>Toluene</th>\n",
       "      <th>Xylene</th>\n",
       "      <th>AQI</th>\n",
       "      <th>AQI_Bucket</th>\n",
       "      <th>StationName</th>\n",
       "      <th>City</th>\n",
       "      <th>State</th>\n",
       "      <th>Status</th>\n",
       "    </tr>\n",
       "  </thead>\n",
       "  <tbody>\n",
       "    <tr>\n",
       "      <th>0</th>\n",
       "      <td>AP001</td>\n",
       "      <td>2017-11-24 17:00:00</td>\n",
       "      <td>60.50</td>\n",
       "      <td>98.00</td>\n",
       "      <td>2.35</td>\n",
       "      <td>30.80</td>\n",
       "      <td>18.25</td>\n",
       "      <td>8.50</td>\n",
       "      <td>0.1</td>\n",
       "      <td>11.85</td>\n",
       "      <td>126.40</td>\n",
       "      <td>0.1</td>\n",
       "      <td>6.10</td>\n",
       "      <td>0.10</td>\n",
       "      <td>NaN</td>\n",
       "      <td>NaN</td>\n",
       "      <td>Secretariat, Amaravati - APPCB</td>\n",
       "      <td>Amaravati</td>\n",
       "      <td>Andhra Pradesh</td>\n",
       "      <td>Active</td>\n",
       "    </tr>\n",
       "    <tr>\n",
       "      <th>1</th>\n",
       "      <td>AP001</td>\n",
       "      <td>2017-11-24 18:00:00</td>\n",
       "      <td>65.50</td>\n",
       "      <td>111.25</td>\n",
       "      <td>2.70</td>\n",
       "      <td>24.20</td>\n",
       "      <td>15.07</td>\n",
       "      <td>9.77</td>\n",
       "      <td>0.1</td>\n",
       "      <td>13.17</td>\n",
       "      <td>117.12</td>\n",
       "      <td>0.1</td>\n",
       "      <td>6.25</td>\n",
       "      <td>0.15</td>\n",
       "      <td>NaN</td>\n",
       "      <td>NaN</td>\n",
       "      <td>Secretariat, Amaravati - APPCB</td>\n",
       "      <td>Amaravati</td>\n",
       "      <td>Andhra Pradesh</td>\n",
       "      <td>Active</td>\n",
       "    </tr>\n",
       "    <tr>\n",
       "      <th>2</th>\n",
       "      <td>AP001</td>\n",
       "      <td>2017-11-24 19:00:00</td>\n",
       "      <td>80.00</td>\n",
       "      <td>132.00</td>\n",
       "      <td>2.10</td>\n",
       "      <td>25.18</td>\n",
       "      <td>15.15</td>\n",
       "      <td>12.02</td>\n",
       "      <td>0.1</td>\n",
       "      <td>12.08</td>\n",
       "      <td>98.98</td>\n",
       "      <td>0.2</td>\n",
       "      <td>5.98</td>\n",
       "      <td>0.18</td>\n",
       "      <td>NaN</td>\n",
       "      <td>NaN</td>\n",
       "      <td>Secretariat, Amaravati - APPCB</td>\n",
       "      <td>Amaravati</td>\n",
       "      <td>Andhra Pradesh</td>\n",
       "      <td>Active</td>\n",
       "    </tr>\n",
       "    <tr>\n",
       "      <th>3</th>\n",
       "      <td>AP001</td>\n",
       "      <td>2017-11-24 20:00:00</td>\n",
       "      <td>81.50</td>\n",
       "      <td>133.25</td>\n",
       "      <td>1.95</td>\n",
       "      <td>16.25</td>\n",
       "      <td>10.23</td>\n",
       "      <td>11.58</td>\n",
       "      <td>0.1</td>\n",
       "      <td>10.47</td>\n",
       "      <td>112.20</td>\n",
       "      <td>0.2</td>\n",
       "      <td>6.72</td>\n",
       "      <td>0.10</td>\n",
       "      <td>NaN</td>\n",
       "      <td>NaN</td>\n",
       "      <td>Secretariat, Amaravati - APPCB</td>\n",
       "      <td>Amaravati</td>\n",
       "      <td>Andhra Pradesh</td>\n",
       "      <td>Active</td>\n",
       "    </tr>\n",
       "    <tr>\n",
       "      <th>4</th>\n",
       "      <td>AP001</td>\n",
       "      <td>2017-11-24 21:00:00</td>\n",
       "      <td>75.25</td>\n",
       "      <td>116.00</td>\n",
       "      <td>1.43</td>\n",
       "      <td>17.48</td>\n",
       "      <td>10.43</td>\n",
       "      <td>12.03</td>\n",
       "      <td>0.1</td>\n",
       "      <td>9.12</td>\n",
       "      <td>106.35</td>\n",
       "      <td>0.2</td>\n",
       "      <td>5.75</td>\n",
       "      <td>0.08</td>\n",
       "      <td>NaN</td>\n",
       "      <td>NaN</td>\n",
       "      <td>Secretariat, Amaravati - APPCB</td>\n",
       "      <td>Amaravati</td>\n",
       "      <td>Andhra Pradesh</td>\n",
       "      <td>Active</td>\n",
       "    </tr>\n",
       "  </tbody>\n",
       "</table>\n",
       "</div>"
      ],
      "text/plain": [
       "  StationId             Datetime  PM2.5    PM10    NO    NO2    NOx    NH3  \\\n",
       "0     AP001  2017-11-24 17:00:00  60.50   98.00  2.35  30.80  18.25   8.50   \n",
       "1     AP001  2017-11-24 18:00:00  65.50  111.25  2.70  24.20  15.07   9.77   \n",
       "2     AP001  2017-11-24 19:00:00  80.00  132.00  2.10  25.18  15.15  12.02   \n",
       "3     AP001  2017-11-24 20:00:00  81.50  133.25  1.95  16.25  10.23  11.58   \n",
       "4     AP001  2017-11-24 21:00:00  75.25  116.00  1.43  17.48  10.43  12.03   \n",
       "\n",
       "    CO    SO2      O3  Benzene  Toluene  Xylene  AQI AQI_Bucket  \\\n",
       "0  0.1  11.85  126.40      0.1     6.10    0.10  NaN        NaN   \n",
       "1  0.1  13.17  117.12      0.1     6.25    0.15  NaN        NaN   \n",
       "2  0.1  12.08   98.98      0.2     5.98    0.18  NaN        NaN   \n",
       "3  0.1  10.47  112.20      0.2     6.72    0.10  NaN        NaN   \n",
       "4  0.1   9.12  106.35      0.2     5.75    0.08  NaN        NaN   \n",
       "\n",
       "                      StationName       City           State  Status  \n",
       "0  Secretariat, Amaravati - APPCB  Amaravati  Andhra Pradesh  Active  \n",
       "1  Secretariat, Amaravati - APPCB  Amaravati  Andhra Pradesh  Active  \n",
       "2  Secretariat, Amaravati - APPCB  Amaravati  Andhra Pradesh  Active  \n",
       "3  Secretariat, Amaravati - APPCB  Amaravati  Andhra Pradesh  Active  \n",
       "4  Secretariat, Amaravati - APPCB  Amaravati  Andhra Pradesh  Active  "
      ]
     },
     "execution_count": 6,
     "metadata": {},
     "output_type": "execute_result"
    }
   ],
   "source": [
    "df=pd.merge(data,station,on=\"StationId\")\n",
    "df.head()"
   ]
  },
  {
   "cell_type": "code",
   "execution_count": 7,
   "id": "55cafe62",
   "metadata": {},
   "outputs": [
    {
     "name": "stdout",
     "output_type": "stream",
     "text": [
      "<class 'pandas.core.frame.DataFrame'>\n",
      "Int64Index: 2589083 entries, 0 to 2589082\n",
      "Data columns (total 20 columns):\n",
      " #   Column       Dtype  \n",
      "---  ------       -----  \n",
      " 0   StationId    object \n",
      " 1   Datetime     object \n",
      " 2   PM2.5        float64\n",
      " 3   PM10         float64\n",
      " 4   NO           float64\n",
      " 5   NO2          float64\n",
      " 6   NOx          float64\n",
      " 7   NH3          float64\n",
      " 8   CO           float64\n",
      " 9   SO2          float64\n",
      " 10  O3           float64\n",
      " 11  Benzene      float64\n",
      " 12  Toluene      float64\n",
      " 13  Xylene       float64\n",
      " 14  AQI          float64\n",
      " 15  AQI_Bucket   object \n",
      " 16  StationName  object \n",
      " 17  City         object \n",
      " 18  State        object \n",
      " 19  Status       object \n",
      "dtypes: float64(13), object(7)\n",
      "memory usage: 414.8+ MB\n"
     ]
    }
   ],
   "source": [
    "df.info()"
   ]
  },
  {
   "cell_type": "code",
   "execution_count": 8,
   "id": "cd723cbe",
   "metadata": {},
   "outputs": [
    {
     "data": {
      "text/html": [
       "<div>\n",
       "<style scoped>\n",
       "    .dataframe tbody tr th:only-of-type {\n",
       "        vertical-align: middle;\n",
       "    }\n",
       "\n",
       "    .dataframe tbody tr th {\n",
       "        vertical-align: top;\n",
       "    }\n",
       "\n",
       "    .dataframe thead th {\n",
       "        text-align: right;\n",
       "    }\n",
       "</style>\n",
       "<table border=\"1\" class=\"dataframe\">\n",
       "  <thead>\n",
       "    <tr style=\"text-align: right;\">\n",
       "      <th></th>\n",
       "      <th>PM2.5</th>\n",
       "      <th>PM10</th>\n",
       "      <th>NO</th>\n",
       "      <th>NO2</th>\n",
       "      <th>NOx</th>\n",
       "      <th>NH3</th>\n",
       "      <th>CO</th>\n",
       "      <th>SO2</th>\n",
       "      <th>O3</th>\n",
       "      <th>Benzene</th>\n",
       "      <th>Toluene</th>\n",
       "      <th>Xylene</th>\n",
       "      <th>AQI</th>\n",
       "    </tr>\n",
       "  </thead>\n",
       "  <tbody>\n",
       "    <tr>\n",
       "      <th>count</th>\n",
       "      <td>1.941394e+06</td>\n",
       "      <td>1.469831e+06</td>\n",
       "      <td>2.035372e+06</td>\n",
       "      <td>2.060110e+06</td>\n",
       "      <td>2.098275e+06</td>\n",
       "      <td>1.352465e+06</td>\n",
       "      <td>2.089781e+06</td>\n",
       "      <td>1.846346e+06</td>\n",
       "      <td>1.863110e+06</td>\n",
       "      <td>1.727504e+06</td>\n",
       "      <td>1.546717e+06</td>\n",
       "      <td>513979.000000</td>\n",
       "      <td>2.018893e+06</td>\n",
       "    </tr>\n",
       "    <tr>\n",
       "      <th>mean</th>\n",
       "      <td>8.086481e+01</td>\n",
       "      <td>1.584839e+02</td>\n",
       "      <td>2.278825e+01</td>\n",
       "      <td>3.523689e+01</td>\n",
       "      <td>4.055115e+01</td>\n",
       "      <td>2.870856e+01</td>\n",
       "      <td>1.502366e+00</td>\n",
       "      <td>1.211602e+01</td>\n",
       "      <td>3.806408e+01</td>\n",
       "      <td>3.305493e+00</td>\n",
       "      <td>1.490266e+01</td>\n",
       "      <td>2.448881</td>\n",
       "      <td>1.801730e+02</td>\n",
       "    </tr>\n",
       "    <tr>\n",
       "      <th>std</th>\n",
       "      <td>8.947618e+01</td>\n",
       "      <td>1.397883e+02</td>\n",
       "      <td>4.846146e+01</td>\n",
       "      <td>3.497508e+01</td>\n",
       "      <td>5.590894e+01</td>\n",
       "      <td>2.753244e+01</td>\n",
       "      <td>6.292445e+00</td>\n",
       "      <td>1.467385e+01</td>\n",
       "      <td>4.710653e+01</td>\n",
       "      <td>1.214053e+01</td>\n",
       "      <td>3.329729e+01</td>\n",
       "      <td>8.973470</td>\n",
       "      <td>1.404095e+02</td>\n",
       "    </tr>\n",
       "    <tr>\n",
       "      <th>min</th>\n",
       "      <td>1.000000e-02</td>\n",
       "      <td>1.000000e-02</td>\n",
       "      <td>1.000000e-02</td>\n",
       "      <td>1.000000e-02</td>\n",
       "      <td>0.000000e+00</td>\n",
       "      <td>1.000000e-02</td>\n",
       "      <td>0.000000e+00</td>\n",
       "      <td>1.000000e-02</td>\n",
       "      <td>1.000000e-02</td>\n",
       "      <td>0.000000e+00</td>\n",
       "      <td>0.000000e+00</td>\n",
       "      <td>0.000000</td>\n",
       "      <td>5.000000e+00</td>\n",
       "    </tr>\n",
       "    <tr>\n",
       "      <th>25%</th>\n",
       "      <td>2.816000e+01</td>\n",
       "      <td>6.400000e+01</td>\n",
       "      <td>3.050000e+00</td>\n",
       "      <td>1.310000e+01</td>\n",
       "      <td>1.135000e+01</td>\n",
       "      <td>1.123000e+01</td>\n",
       "      <td>4.100000e-01</td>\n",
       "      <td>4.250000e+00</td>\n",
       "      <td>1.102000e+01</td>\n",
       "      <td>8.000000e-02</td>\n",
       "      <td>3.400000e-01</td>\n",
       "      <td>0.000000</td>\n",
       "      <td>8.400000e+01</td>\n",
       "    </tr>\n",
       "    <tr>\n",
       "      <th>50%</th>\n",
       "      <td>5.259000e+01</td>\n",
       "      <td>1.162500e+02</td>\n",
       "      <td>7.150000e+00</td>\n",
       "      <td>2.479000e+01</td>\n",
       "      <td>2.286000e+01</td>\n",
       "      <td>2.235000e+01</td>\n",
       "      <td>8.000000e-01</td>\n",
       "      <td>8.250000e+00</td>\n",
       "      <td>2.475000e+01</td>\n",
       "      <td>9.600000e-01</td>\n",
       "      <td>3.400000e+00</td>\n",
       "      <td>0.200000</td>\n",
       "      <td>1.310000e+02</td>\n",
       "    </tr>\n",
       "    <tr>\n",
       "      <th>75%</th>\n",
       "      <td>9.774000e+01</td>\n",
       "      <td>2.040000e+02</td>\n",
       "      <td>1.858000e+01</td>\n",
       "      <td>4.548000e+01</td>\n",
       "      <td>4.570000e+01</td>\n",
       "      <td>3.778000e+01</td>\n",
       "      <td>1.380000e+00</td>\n",
       "      <td>1.453000e+01</td>\n",
       "      <td>4.953000e+01</td>\n",
       "      <td>3.230000e+00</td>\n",
       "      <td>1.510000e+01</td>\n",
       "      <td>1.830000</td>\n",
       "      <td>2.590000e+02</td>\n",
       "    </tr>\n",
       "    <tr>\n",
       "      <th>max</th>\n",
       "      <td>1.000000e+03</td>\n",
       "      <td>1.000000e+03</td>\n",
       "      <td>5.000000e+02</td>\n",
       "      <td>4.999900e+02</td>\n",
       "      <td>5.000000e+02</td>\n",
       "      <td>4.999700e+02</td>\n",
       "      <td>4.985700e+02</td>\n",
       "      <td>1.999600e+02</td>\n",
       "      <td>9.970000e+02</td>\n",
       "      <td>4.980700e+02</td>\n",
       "      <td>4.999900e+02</td>\n",
       "      <td>499.990000</td>\n",
       "      <td>3.133000e+03</td>\n",
       "    </tr>\n",
       "  </tbody>\n",
       "</table>\n",
       "</div>"
      ],
      "text/plain": [
       "              PM2.5          PM10            NO           NO2           NOx  \\\n",
       "count  1.941394e+06  1.469831e+06  2.035372e+06  2.060110e+06  2.098275e+06   \n",
       "mean   8.086481e+01  1.584839e+02  2.278825e+01  3.523689e+01  4.055115e+01   \n",
       "std    8.947618e+01  1.397883e+02  4.846146e+01  3.497508e+01  5.590894e+01   \n",
       "min    1.000000e-02  1.000000e-02  1.000000e-02  1.000000e-02  0.000000e+00   \n",
       "25%    2.816000e+01  6.400000e+01  3.050000e+00  1.310000e+01  1.135000e+01   \n",
       "50%    5.259000e+01  1.162500e+02  7.150000e+00  2.479000e+01  2.286000e+01   \n",
       "75%    9.774000e+01  2.040000e+02  1.858000e+01  4.548000e+01  4.570000e+01   \n",
       "max    1.000000e+03  1.000000e+03  5.000000e+02  4.999900e+02  5.000000e+02   \n",
       "\n",
       "                NH3            CO           SO2            O3       Benzene  \\\n",
       "count  1.352465e+06  2.089781e+06  1.846346e+06  1.863110e+06  1.727504e+06   \n",
       "mean   2.870856e+01  1.502366e+00  1.211602e+01  3.806408e+01  3.305493e+00   \n",
       "std    2.753244e+01  6.292445e+00  1.467385e+01  4.710653e+01  1.214053e+01   \n",
       "min    1.000000e-02  0.000000e+00  1.000000e-02  1.000000e-02  0.000000e+00   \n",
       "25%    1.123000e+01  4.100000e-01  4.250000e+00  1.102000e+01  8.000000e-02   \n",
       "50%    2.235000e+01  8.000000e-01  8.250000e+00  2.475000e+01  9.600000e-01   \n",
       "75%    3.778000e+01  1.380000e+00  1.453000e+01  4.953000e+01  3.230000e+00   \n",
       "max    4.999700e+02  4.985700e+02  1.999600e+02  9.970000e+02  4.980700e+02   \n",
       "\n",
       "            Toluene         Xylene           AQI  \n",
       "count  1.546717e+06  513979.000000  2.018893e+06  \n",
       "mean   1.490266e+01       2.448881  1.801730e+02  \n",
       "std    3.329729e+01       8.973470  1.404095e+02  \n",
       "min    0.000000e+00       0.000000  5.000000e+00  \n",
       "25%    3.400000e-01       0.000000  8.400000e+01  \n",
       "50%    3.400000e+00       0.200000  1.310000e+02  \n",
       "75%    1.510000e+01       1.830000  2.590000e+02  \n",
       "max    4.999900e+02     499.990000  3.133000e+03  "
      ]
     },
     "execution_count": 8,
     "metadata": {},
     "output_type": "execute_result"
    }
   ],
   "source": [
    "df.describe()"
   ]
  },
  {
   "cell_type": "code",
   "execution_count": 9,
   "id": "ae5ae518",
   "metadata": {},
   "outputs": [
    {
     "data": {
      "text/plain": [
       "StationId            0\n",
       "Datetime             0\n",
       "PM2.5           647689\n",
       "PM10           1119252\n",
       "NO              553711\n",
       "NO2             528973\n",
       "NOx             490808\n",
       "NH3            1236618\n",
       "CO              499302\n",
       "SO2             742737\n",
       "O3              725973\n",
       "Benzene         861579\n",
       "Toluene        1042366\n",
       "Xylene         2075104\n",
       "AQI             570190\n",
       "AQI_Bucket      570190\n",
       "StationName          0\n",
       "City                 0\n",
       "State                0\n",
       "Status            7706\n",
       "dtype: int64"
      ]
     },
     "execution_count": 9,
     "metadata": {},
     "output_type": "execute_result"
    }
   ],
   "source": [
    "df.isnull().sum()"
   ]
  },
  {
   "cell_type": "code",
   "execution_count": 10,
   "id": "4fd8191b",
   "metadata": {},
   "outputs": [
    {
     "data": {
      "text/plain": [
       "StationId            0\n",
       "Datetime             0\n",
       "PM2.5           647689\n",
       "PM10           1119252\n",
       "NO              553711\n",
       "NO2             528973\n",
       "NOx             490808\n",
       "NH3            1236618\n",
       "CO              499302\n",
       "SO2             742737\n",
       "O3              725973\n",
       "Benzene         861579\n",
       "Toluene        1042366\n",
       "Xylene         2075104\n",
       "AQI             570190\n",
       "AQI_Bucket      570190\n",
       "StationName          0\n",
       "City                 0\n",
       "State                0\n",
       "Status            7706\n",
       "dtype: int64"
      ]
     },
     "execution_count": 10,
     "metadata": {},
     "output_type": "execute_result"
    }
   ],
   "source": [
    "df.isnull().sum()\n"
   ]
  },
  {
   "cell_type": "code",
   "execution_count": 11,
   "id": "01dc72f7",
   "metadata": {},
   "outputs": [
    {
     "data": {
      "text/plain": [
       "<Axes: >"
      ]
     },
     "execution_count": 11,
     "metadata": {},
     "output_type": "execute_result"
    },
    {
     "data": {
      "image/png": "[encoded data removed]",
      "text/plain": [
       "<Figure size 2000x800 with 1 Axes>"
      ]
     },
     "metadata": {},
     "output_type": "display_data"
    }
   ],
   "source": [
    "l1=[]\n",
    "for i in df:\n",
    "    l1.append(((df[str(i)].isnull().sum())/df.shape[0])*100)\n",
    "l2=df.columns\n",
    "plt.figure(figsize=(20,8))\n",
    "sns.pointplot(x=l2,y=l1)"
   ]
  },
  {
   "cell_type": "code",
   "execution_count": 12,
   "id": "cf0b6858",
   "metadata": {},
   "outputs": [
    {
     "data": {
      "text/html": [
       "<div>\n",
       "<style scoped>\n",
       "    .dataframe tbody tr th:only-of-type {\n",
       "        vertical-align: middle;\n",
       "    }\n",
       "\n",
       "    .dataframe tbody tr th {\n",
       "        vertical-align: top;\n",
       "    }\n",
       "\n",
       "    .dataframe thead th {\n",
       "        text-align: right;\n",
       "    }\n",
       "</style>\n",
       "<table border=\"1\" class=\"dataframe\">\n",
       "  <thead>\n",
       "    <tr style=\"text-align: right;\">\n",
       "      <th></th>\n",
       "      <th>0</th>\n",
       "    </tr>\n",
       "  </thead>\n",
       "  <tbody>\n",
       "    <tr>\n",
       "      <th>StationId</th>\n",
       "      <td>0.000000</td>\n",
       "    </tr>\n",
       "    <tr>\n",
       "      <th>Datetime</th>\n",
       "      <td>0.000000</td>\n",
       "    </tr>\n",
       "    <tr>\n",
       "      <th>PM2.5</th>\n",
       "      <td>25.016154</td>\n",
       "    </tr>\n",
       "    <tr>\n",
       "      <th>PM10</th>\n",
       "      <td>43.229669</td>\n",
       "    </tr>\n",
       "    <tr>\n",
       "      <th>NO</th>\n",
       "      <td>21.386375</td>\n",
       "    </tr>\n",
       "    <tr>\n",
       "      <th>NO2</th>\n",
       "      <td>20.430902</td>\n",
       "    </tr>\n",
       "    <tr>\n",
       "      <th>NOx</th>\n",
       "      <td>18.956828</td>\n",
       "    </tr>\n",
       "    <tr>\n",
       "      <th>NH3</th>\n",
       "      <td>47.762779</td>\n",
       "    </tr>\n",
       "    <tr>\n",
       "      <th>CO</th>\n",
       "      <td>19.284897</td>\n",
       "    </tr>\n",
       "    <tr>\n",
       "      <th>SO2</th>\n",
       "      <td>28.687261</td>\n",
       "    </tr>\n",
       "    <tr>\n",
       "      <th>O3</th>\n",
       "      <td>28.039773</td>\n",
       "    </tr>\n",
       "    <tr>\n",
       "      <th>Benzene</th>\n",
       "      <td>33.277380</td>\n",
       "    </tr>\n",
       "    <tr>\n",
       "      <th>Toluene</th>\n",
       "      <td>40.260046</td>\n",
       "    </tr>\n",
       "    <tr>\n",
       "      <th>Xylene</th>\n",
       "      <td>80.148222</td>\n",
       "    </tr>\n",
       "    <tr>\n",
       "      <th>AQI</th>\n",
       "      <td>22.022855</td>\n",
       "    </tr>\n",
       "    <tr>\n",
       "      <th>AQI_Bucket</th>\n",
       "      <td>22.022855</td>\n",
       "    </tr>\n",
       "    <tr>\n",
       "      <th>StationName</th>\n",
       "      <td>0.000000</td>\n",
       "    </tr>\n",
       "    <tr>\n",
       "      <th>City</th>\n",
       "      <td>0.000000</td>\n",
       "    </tr>\n",
       "    <tr>\n",
       "      <th>State</th>\n",
       "      <td>0.000000</td>\n",
       "    </tr>\n",
       "    <tr>\n",
       "      <th>Status</th>\n",
       "      <td>0.297634</td>\n",
       "    </tr>\n",
       "  </tbody>\n",
       "</table>\n",
       "</div>"
      ],
      "text/plain": [
       "                     0\n",
       "StationId     0.000000\n",
       "Datetime      0.000000\n",
       "PM2.5        25.016154\n",
       "PM10         43.229669\n",
       "NO           21.386375\n",
       "NO2          20.430902\n",
       "NOx          18.956828\n",
       "NH3          47.762779\n",
       "CO           19.284897\n",
       "SO2          28.687261\n",
       "O3           28.039773\n",
       "Benzene      33.277380\n",
       "Toluene      40.260046\n",
       "Xylene       80.148222\n",
       "AQI          22.022855\n",
       "AQI_Bucket   22.022855\n",
       "StationName   0.000000\n",
       "City          0.000000\n",
       "State         0.000000\n",
       "Status        0.297634"
      ]
     },
     "execution_count": 12,
     "metadata": {},
     "output_type": "execute_result"
    }
   ],
   "source": [
    "null_value_percent=pd.DataFrame(l1,index=l2)\n",
    "null_value_percent"
   ]
  },
  {
   "cell_type": "code",
   "execution_count": 13,
   "id": "8f391c34",
   "metadata": {},
   "outputs": [
    {
     "name": "stdout",
     "output_type": "stream",
     "text": [
      "<class 'pandas.core.frame.DataFrame'>\n",
      "RangeIndex: 2589083 entries, 0 to 2589082\n",
      "Data columns (total 16 columns):\n",
      " #   Column      Dtype  \n",
      "---  ------      -----  \n",
      " 0   StationId   object \n",
      " 1   Datetime    object \n",
      " 2   PM2.5       float64\n",
      " 3   PM10        float64\n",
      " 4   NO          float64\n",
      " 5   NO2         float64\n",
      " 6   NOx         float64\n",
      " 7   NH3         float64\n",
      " 8   CO          float64\n",
      " 9   SO2         float64\n",
      " 10  O3          float64\n",
      " 11  Benzene     float64\n",
      " 12  Toluene     float64\n",
      " 13  Xylene      float64\n",
      " 14  AQI         float64\n",
      " 15  AQI_Bucket  object \n",
      "dtypes: float64(13), object(3)\n",
      "memory usage: 316.1+ MB\n"
     ]
    }
   ],
   "source": [
    "data.info()"
   ]
  },
  {
   "cell_type": "code",
   "execution_count": 14,
   "id": "9e1ae96d",
   "metadata": {},
   "outputs": [
    {
     "data": {
      "text/plain": [
       "110"
      ]
     },
     "execution_count": 14,
     "metadata": {},
     "output_type": "execute_result"
    }
   ],
   "source": [
    "data[\"StationId\"].nunique()"
   ]
  },
  {
   "cell_type": "code",
   "execution_count": 15,
   "id": "084785b9",
   "metadata": {},
   "outputs": [
    {
     "name": "stdout",
     "output_type": "stream",
     "text": [
      "79\n",
      "15\n",
      "27\n"
     ]
    }
   ],
   "source": [
    "print(df.groupby([\"StationId\"])[\"Xylene\"].mean().isnull().sum())\n",
    "print(df.groupby([\"StationId\"])[\"Benzene\"].mean().isnull().sum())\n",
    "print(df.groupby([\"StationId\"])[\"Toluene\"].mean().isnull().sum())"
   ]
  },
  {
   "cell_type": "code",
   "execution_count": 16,
   "id": "9ee7ecb2",
   "metadata": {},
   "outputs": [],
   "source": [
    "# Out of 110 stations 79 Stations dont have data for Xylene \n",
    "# Out of 110 stations 15 Stations dont have data for Benzene"
   ]
  },
  {
   "cell_type": "code",
   "execution_count": 17,
   "id": "208656d6",
   "metadata": {},
   "outputs": [
    {
     "data": {
      "text/plain": [
       "26"
      ]
     },
     "execution_count": 17,
     "metadata": {},
     "output_type": "execute_result"
    }
   ],
   "source": [
    "df[\"City\"].nunique()"
   ]
  },
  {
   "cell_type": "code",
   "execution_count": 18,
   "id": "fbf0ff30",
   "metadata": {},
   "outputs": [
    {
     "name": "stdout",
     "output_type": "stream",
     "text": [
      "14\n",
      "4\n",
      "5\n"
     ]
    }
   ],
   "source": [
    "print(df.groupby([\"City\"])[\"Xylene\"].mean().isnull().sum())\n",
    "print(df.groupby([\"City\"])[\"Benzene\"].mean().isnull().sum())\n",
    "print(df.groupby([\"City\"])[\"Toluene\"].mean().isnull().sum())"
   ]
  },
  {
   "cell_type": "code",
   "execution_count": 19,
   "id": "cf8eeaa9",
   "metadata": {},
   "outputs": [
    {
     "name": "stdout",
     "output_type": "stream",
     "text": [
      "          0\n",
      "PM2.5     3\n",
      "PM10     18\n",
      "NO        1\n",
      "NO2       0\n",
      "NOx       3\n",
      "NH3      27\n",
      "CO        1\n",
      "SO2       9\n",
      "O3        7\n",
      "Benzene  15\n",
      "Toluene  27\n",
      "Xylene   79\n",
      "AQI       1\n"
     ]
    }
   ],
   "source": [
    "# Station id wise empty\n",
    "df_n=df.select_dtypes(exclude=\"object\")\n",
    "df_n[\"StationId\"]=df[\"StationId\"]\n",
    "col=list(df_n.columns)\n",
    "col.pop()\n",
    "l5=[]\n",
    "for i in col:\n",
    "    l5.append(df.groupby([\"StationId\"])[i].mean().isnull().sum())\n",
    "print(pd.DataFrame(l5,index=col))"
   ]
  },
  {
   "cell_type": "code",
   "execution_count": 20,
   "id": "5457cf98",
   "metadata": {},
   "outputs": [
    {
     "name": "stdout",
     "output_type": "stream",
     "text": [
      "          0\n",
      "PM2.5     3\n",
      "PM10     18\n",
      "NO        1\n",
      "NO2       0\n",
      "NOx       3\n",
      "NH3      27\n",
      "CO        1\n",
      "SO2       9\n",
      "O3        7\n",
      "Benzene  15\n",
      "Toluene  27\n",
      "Xylene   79\n",
      "AQI       1\n"
     ]
    }
   ],
   "source": [
    "l5=[]\n",
    "for i in col:\n",
    "    l5.append(df.groupby([\"StationId\"])[i].mean().isnull().sum())\n",
    "print(pd.DataFrame(l5,index=col))"
   ]
  },
  {
   "cell_type": "code",
   "execution_count": 21,
   "id": "77baea22",
   "metadata": {},
   "outputs": [],
   "source": [
    "# insert mean values in respective columns with respect to stationId mean\n",
    "df_n=df.select_dtypes(exclude=\"object\")\n",
    "df_n[\"StationId\"]=df[\"StationId\"]\n",
    "col=list(df_n.columns)\n",
    "col.pop()\n",
    "for i in col:\n",
    "    df.groupby([\"StationId\"])[i].fillna(df.groupby([\"StationId\"])[i].mean())"
   ]
  },
  {
   "cell_type": "code",
   "execution_count": null,
   "id": "ab0d8803",
   "metadata": {},
   "outputs": [],
   "source": []
  },
  {
   "cell_type": "code",
   "execution_count": null,
   "id": "443fee65",
   "metadata": {},
   "outputs": [],
   "source": []
  },
  {
   "cell_type": "code",
   "execution_count": 22,
   "id": "12de5837",
   "metadata": {},
   "outputs": [
    {
     "ename": "TypeError",
     "evalue": "list indices must be integers or slices, not str",
     "output_type": "error",
     "traceback": [
      "\u001b[1;31m---------------------------------------------------------------------------\u001b[0m",
      "\u001b[1;31mTypeError\u001b[0m                                 Traceback (most recent call last)",
      "Cell \u001b[1;32mIn[22], line 7\u001b[0m\n\u001b[0;32m      4\u001b[0m col\u001b[38;5;241m.\u001b[39mpop()\n\u001b[0;32m      6\u001b[0m \u001b[38;5;28;01mfor\u001b[39;00m i \u001b[38;5;129;01min\u001b[39;00m df_n:\n\u001b[1;32m----> 7\u001b[0m     df[i]\u001b[38;5;241m=\u001b[39mdf\u001b[38;5;241m.\u001b[39mgroupby(\u001b[43m[\u001b[49m\u001b[38;5;124;43m\"\u001b[39;49m\u001b[38;5;124;43mCity\u001b[39;49m\u001b[38;5;124;43m\"\u001b[39;49m\u001b[43m]\u001b[49m\u001b[43m[\u001b[49m\u001b[43mi\u001b[49m\u001b[43m]\u001b[49m)\u001b[38;5;241m.\u001b[39mfillna(df\u001b[38;5;241m.\u001b[39mgroupby([\u001b[38;5;124m\"\u001b[39m\u001b[38;5;124mCity\u001b[39m\u001b[38;5;124m\"\u001b[39m][i])\u001b[38;5;241m.\u001b[39mmean())\n\u001b[0;32m      8\u001b[0m df\u001b[38;5;241m.\u001b[39mhead()\n",
      "\u001b[1;31mTypeError\u001b[0m: list indices must be integers or slices, not str"
     ]
    }
   ],
   "source": [
    "df_n=df.select_dtypes(exclude=['object'])\n",
    "df_n[\"City\"]=df[\"City\"]\n",
    "col = list(df_n.columns)\n",
    "col.pop()\n",
    "\n",
    "for i in df_n:\n",
    "    df[i]=df.groupby([\"City\"][i]).fillna(df.groupby([\"City\"][i]).mean())\n",
    "df.head()"
   ]
  },
  {
   "cell_type": "code",
   "execution_count": null,
   "id": "830199d0",
   "metadata": {},
   "outputs": [],
   "source": [
    "df_n=df.select_dtypes(exclude=['object'])\n",
    "df_n[\"City\"]=df[\"City\"]\n",
    "col = list(df_n.columns)\n",
    "col.pop()\n",
    "l3=[]\n",
    "for i in col:\n",
    "    l3.append((df.groupby([\"City\"])[str(i)].mean().isnull().sum()))\n",
    "\n",
    "null_val=pd.DataFrame(l3,index=col)\n",
    "print(null_val)"
   ]
  },
  {
   "cell_type": "code",
   "execution_count": null,
   "id": "1382b05f",
   "metadata": {},
   "outputs": [],
   "source": [
    "dfm_c=pd.DataFrame()\n",
    "df_n=df.select_dtypes(exclude=['object'])\n",
    "df_n[\"City\"]=df[\"City\"]\n",
    "col=list(df_n.columns)\n",
    "col.pop()\n",
    "for i in col:\n",
    "    dfm_c[i]=df.groupby([\"City\"])[i].mean()\n",
    "dfm_c"
   ]
  },
  {
   "cell_type": "code",
   "execution_count": null,
   "id": "c40c7976",
   "metadata": {},
   "outputs": [],
   "source": [
    "dfm_s=pd.DataFrame()\n",
    "df_n=df.select_dtypes(exclude=[\"object\"])\n",
    "df_n[\"StationId\"]=df[\"StationId\"]\n",
    "col = list(df_n.columns)\n",
    "col.pop()\n",
    "for i in col:\n",
    "    dfm_s[i]=df.groupby([\"StationId\"])[i].mean()\n",
    "dfm_s"
   ]
  },
  {
   "cell_type": "code",
   "execution_count": null,
   "id": "610b62a7",
   "metadata": {},
   "outputs": [],
   "source": [
    "df.groupby([\"StationId\"])[\"SO2\"].fillna(groupby([\"StationId\"])[\"SO2\"].mean())"
   ]
  },
  {
   "cell_type": "code",
   "execution_count": null,
   "id": "0ef46d0e",
   "metadata": {},
   "outputs": [],
   "source": [
    "df_n=df.select_dtypes(exclude=['object'])\n",
    "df_n[\"City\"]=df[\"City\"]\n",
    "col = list(df_n.columns)\n",
    "col.pop()\n",
    "l3=[]\n",
    "for i in col:\n",
    "    l3.append((df.groupby([\"City\"])[str(i)].mean().isnull().sum()))\n",
    "\n",
    "null_val=pd.DataFrame(l3,index=col)\n",
    "print(null_val)"
   ]
  },
  {
   "cell_type": "code",
   "execution_count": null,
   "id": "25a99ea0",
   "metadata": {},
   "outputs": [],
   "source": [
    "# Out of 26 Cities we 14 cities Xylene data is Not Available"
   ]
  },
  {
   "cell_type": "code",
   "execution_count": null,
   "id": "83e94047",
   "metadata": {},
   "outputs": [],
   "source": [
    "df=df.drop([\"Xylene\"],axis=1)"
   ]
  },
  {
   "cell_type": "code",
   "execution_count": null,
   "id": "4b13edb7",
   "metadata": {},
   "outputs": [],
   "source": [
    "df[\"SO2\"].isnull().sum()"
   ]
  },
  {
   "cell_type": "code",
   "execution_count": null,
   "id": "c986b53f",
   "metadata": {},
   "outputs": [],
   "source": [
    "df[\"SO2\"].isnull().sum()"
   ]
  },
  {
   "cell_type": "code",
   "execution_count": null,
   "id": "2d887b47",
   "metadata": {},
   "outputs": [],
   "source": [
    "df[\"SO2\"]=df[\"SO2\"].fillna(df.groupby([\"City\"])[\"SO2\"].mean())"
   ]
  },
  {
   "cell_type": "code",
   "execution_count": null,
   "id": "79349ff9",
   "metadata": {},
   "outputs": [],
   "source": [
    "df"
   ]
  },
  {
   "cell_type": "code",
   "execution_count": null,
   "id": "dc4f2ada",
   "metadata": {},
   "outputs": [],
   "source": [
    "df.groupby([\"City\"])[\"SO2\"].mean()"
   ]
  },
  {
   "cell_type": "code",
   "execution_count": null,
   "id": "7b19cd20",
   "metadata": {},
   "outputs": [],
   "source": [
    "df[\"SO2\"]=df[\"SO2\"].fillna(df.groupby([\"StationId\"])[\"SO2\"].mean())"
   ]
  },
  {
   "cell_type": "code",
   "execution_count": null,
   "id": "b905c08a",
   "metadata": {},
   "outputs": [],
   "source": [
    "df_n=df.select_dtypes(exclude=[\"object\"])\n",
    "df_n[\"City\"]=df[\"City\"]\n",
    "col=list(df_n.columns)\n",
    "col.pop()\n",
    "for i in col:\n",
    "    df[str(i)] = df[str(i)].fillna(df.groupby([\"StationId\"])[str(i)].mean())\n",
    "for i in col:\n",
    "    df[str(i)] =df[str(i)].fillna(df.groupby([\"City\"])[str(i)].mean())\n",
    "l4=[]\n",
    "for i in col:\n",
    "    l4.append(df[i].isnull().sum())\n",
    "\n",
    "print(pd.DataFrame(l4,index=col))"
   ]
  },
  {
   "cell_type": "code",
   "execution_count": null,
   "id": "99cc7c8d",
   "metadata": {},
   "outputs": [],
   "source": [
    "data[\"Datetime\"]=pd.to_datetime(data[\"Datetime\"])"
   ]
  },
  {
   "cell_type": "code",
   "execution_count": null,
   "id": "9991b613",
   "metadata": {},
   "outputs": [],
   "source": [
    "df1=pd.read_csv(\"C:\\\\Users\\\\DELL\\\\Desktop\\\\POLLUTION Dataset\\\\station_hour.csv\")"
   ]
  },
  {
   "cell_type": "code",
   "execution_count": null,
   "id": "2d5401c7",
   "metadata": {},
   "outputs": [],
   "source": [
    "df1.head()"
   ]
  },
  {
   "cell_type": "code",
   "execution_count": null,
   "id": "22aa5ddf",
   "metadata": {},
   "outputs": [],
   "source": [
    "df1=df1.fillna(method=\"bfill\")"
   ]
  },
  {
   "cell_type": "code",
   "execution_count": null,
   "id": "17cd1de7",
   "metadata": {},
   "outputs": [],
   "source": [
    "df1.isnull().sum()"
   ]
  },
  {
   "cell_type": "code",
   "execution_count": null,
   "id": "f53e0160",
   "metadata": {},
   "outputs": [],
   "source": []
  },
  {
   "cell_type": "code",
   "execution_count": null,
   "id": "86e140f9",
   "metadata": {},
   "outputs": [],
   "source": []
  }
 ],
 "metadata": {
  "kernelspec": {
   "display_name": "Python 3 (ipykernel)",
   "language": "python",
   "name": "python3"
  },
  "language_info": {
   "codemirror_mode": {
    "name": "ipython",
    "version": 3
   },
   "file_extension": ".py",
   "mimetype": "text/x-python",
   "name": "python",
   "nbconvert_exporter": "python",
   "pygments_lexer": "ipython3",
   "version": "3.10.9"
  }
 },
 "nbformat": 4,
 "nbformat_minor": 5
}
